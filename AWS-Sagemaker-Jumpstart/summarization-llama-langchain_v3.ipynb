{
 "cells": [
  {
   "cell_type": "markdown",
   "id": "94e8c809-1173-488c-95fb-eec2caf745dc",
   "metadata": {},
   "source": [
    "#### Document summarization application with Llama Open Source LLM with Langchain using Sagemaker Jumpstart"
   ]
  },
  {
   "cell_type": "markdown",
   "id": "b1e5109f-902b-4980-983c-0cc55ee1be4c",
   "metadata": {},
   "source": [
    "* Author : Dipjyoti Das Last Edited : Jan 25, 2024\n",
    "* This notebook provides an example for how to use Sagemaker Jumpstart -for text summarization use case. It used Llama-7b-chat fine tuned open source model from Jumsptart model hub with Langchain."
   ]
  },
  {
   "cell_type": "markdown",
   "id": "368acb2d-fd10-4689-9a89-e379ef114da9",
   "metadata": {},
   "source": [
    "#### Prerequisites\n",
    "* AWS Innovation Sandbox should be installed and Domain created in Sagemaker"
   ]
  },
  {
   "cell_type": "code",
   "execution_count": 42,
   "id": "bfeb9d15-ec21-498b-b93f-8ab7af2a014a",
   "metadata": {},
   "outputs": [
    {
     "name": "stdout",
     "output_type": "stream",
     "text": [
      "1.34.27\n"
     ]
    }
   ],
   "source": [
    "# Import the Boto3 and JSON modules\n",
    "import json\n",
    "import boto3\n",
    "print(boto3.__version__)\n",
    "\n",
    "import warnings\n",
    "warnings.filterwarnings('ignore')"
   ]
  },
  {
   "cell_type": "code",
   "execution_count": 49,
   "id": "a364788d-484f-42c5-a7b4-720192907fe3",
   "metadata": {},
   "outputs": [],
   "source": [
    "llama2_7b_chat_endpoint_name = 'jumpstart-dft-meta-textgeneration-l-20240125-212704'\n",
    "llama2_7b_chat_InferenceComponentName = 'meta-textgeneration-llama-2-7b-f-20240125-212705'\n",
    "\n",
    "llama2_13b_chat_endpoint_name = 'jumpstart-dft-meta-textgeneration-l-20240126-165505'\n",
    "llama2_13b_chat_InferenceComponentName = 'meta-textgeneration-llama-2-13b-f-20240126-165505'\n",
    "\n",
    "region_name = \"us-east-1\""
   ]
  },
  {
   "cell_type": "code",
   "execution_count": 3,
   "id": "8437f315-a37e-42b8-97c2-831d5f1db87e",
   "metadata": {},
   "outputs": [],
   "source": [
    "!pip install -q transformers pypdfium2 accelerate langchain"
   ]
  },
  {
   "cell_type": "code",
   "execution_count": 44,
   "id": "27062064-1102-45f5-a3fd-6b36990655c5",
   "metadata": {},
   "outputs": [],
   "source": [
    "# Import the relevant modules and break down the long document into chunks:\n",
    "import langchain\n",
    "from langchain import SagemakerEndpoint, PromptTemplate\n",
    "from langchain.llms.sagemaker_endpoint import LLMContentHandler\n",
    "from langchain.chains.summarize import load_summarize_chain\n",
    "from langchain.text_splitter import RecursiveCharacterTextSplitter, CharacterTextSplitter\n",
    "from langchain import LLMChain\n",
    "\n",
    "from langchain.document_loaders import TextLoader\n",
    "from langchain.docstore.document import Document\n",
    "from langchain.document_loaders import PyPDFium2Loader\n",
    "import transformers\n",
    "import torch"
   ]
  },
  {
   "cell_type": "code",
   "execution_count": 45,
   "id": "ee9c96f8-b915-46d0-bfdb-c4a86e5f58ad",
   "metadata": {},
   "outputs": [],
   "source": [
    "pdf_filepath = '/home/sagemaker-user/6_extracted_FM-esg-report-2022.pdf'"
   ]
  },
  {
   "cell_type": "code",
   "execution_count": 46,
   "id": "a6b8b935-e092-4983-a5c7-48e8df83900b",
   "metadata": {},
   "outputs": [],
   "source": [
    "def pdf_output(pdf_filepath):\n",
    "    loader = PyPDFium2Loader(pdf_filepath)\n",
    "    data = loader.load()\n",
    "    text_splitter = CharacterTextSplitter(chunk_size=1000, chunk_overlap=0)\n",
    "    texts_FM1 = text_splitter.split_documents(data)\n",
    "    return texts_FM1"
   ]
  },
  {
   "cell_type": "code",
   "execution_count": 47,
   "id": "8f8c65a4-0bb2-40a0-9b4a-e1759f779764",
   "metadata": {},
   "outputs": [
    {
     "data": {
      "text/plain": [
       "[Document(page_content='About Fannie Mae\\r\\nWho we are\\r\\nThe Federal National Mortgage Association, better known as \\r\\nFannie Mae, is a purpose-driven company by charter and by \\r\\nchoice. Our business supports mortgage lenders by providing \\r\\nmortgage financing to help people buy or rent a home. We help \\r\\nmake the popular 30-year fixed-rate mortgage possible, enabling \\r\\npredictable mortgage payments over the life of the loan and \\r\\ngiving homeowners stability and peace of mind. \\r\\nOur charter, an act of Congress, establishes our purposes: \\r\\nto provide liquidity and stability to the residential mortgage \\r\\nmarket and to promote access to mortgage credit. This mandate \\r\\nincludes facilitating mortgages on housing for low- and \\r\\nmoderate-income families involving a reasonable economic \\r\\nreturn that may be less than the return earned on other \\r\\nactivities. Congress declared that our operations should be \\r\\nfinanced by private capital to the maximum extent feasible. With \\r\\nthese Congressional intentions in mind, we have, principally \\r\\nusing private capital, provided liquidity in the secondary market \\r\\nand expanded housing opportunities throughout the U.S. Fannie \\r\\nMae is committed to maintaining safety and soundness as we \\r\\nwork to fulfill this mission.\\r\\nWe do not originate mortgage loans or lend money directly to \\r\\nborrowers. Rather, we work primarily with lenders who originate \\r\\nloans to borrowers. We acquire and securitize those loans into \\r\\nmortgage-backed securities that we guarantee (which we refer \\r\\nto as Fannie Mae MBS or our MBS). Our revenues are primarily \\r\\ndriven by guaranty fees we receive for assuming the credit risk on \\r\\nloans underlying our MBS. As of December 31, 2022, we owned \\r\\nor guaranteed mortgage assets representing an estimated \\r\\n27% of single-family mortgage debt outstanding and 21% of \\r\\nmultifamily mortgage debt outstanding in the U.S.7\\r\\n7 Based on internal estimates using data from the Federal Reserve Board of Governors’ “Financial Accounts of the United States” (Z.1) release, Q4 2022.\\r\\n© 2023 Fannie Mae 2022 ESG Report | 5\\r\\nTABLE OF CONTENTS INTRODUCTION / ABOUT FANNIE MAE', metadata={'source': '/home/sagemaker-user/6_extracted_FM-esg-report-2022.pdf', 'page': 0})]"
      ]
     },
     "execution_count": 47,
     "metadata": {},
     "output_type": "execute_result"
    }
   ],
   "source": [
    "pdf_output(pdf_filepath)"
   ]
  },
  {
   "cell_type": "code",
   "execution_count": 14,
   "id": "dfc12e9f-79a7-45d3-b2f8-4c1e0860c855",
   "metadata": {},
   "outputs": [],
   "source": [
    "# To make LangChain work effectively with Llama models, we need to define the default content handler classes for valid input and output:\n",
    "\n",
    "class ContentHandlerTextSummarization(LLMContentHandler):\n",
    "    content_type = \"application/json\"\n",
    "    accepts = \"application/json\"\n",
    "\n",
    "    def transform_input(self, prompt: str, model_kwargs={}) -> bytes:\n",
    "        input_str = json.dumps({\"inputs\": prompt, **model_kwargs})\n",
    "        return input_str.encode(\"utf-8\")\n",
    "\n",
    "    def transform_output(self, output: bytes) -> json:\n",
    "        response_json = json.loads(output.read().decode(\"utf-8\"))\n",
    "        generated_text = response_json[0]['generated_text']\n",
    "        return generated_text.split(\"summary:\")[-1]\n",
    "    \n",
    "content_handler = ContentHandlerTextSummarization()"
   ]
  },
  {
   "cell_type": "code",
   "execution_count": 57,
   "id": "03a02624-bd44-42ce-996b-33d0bb282260",
   "metadata": {},
   "outputs": [],
   "source": [
    "summary_model_llm = SagemakerEndpoint( endpoint_name=llama2_13b_chat_endpoint_name, \n",
    "                                      region_name= region_name,\n",
    "                                      model_kwargs={\"max_new_tokens\": 2000, \"top_p\": 0.9, \"temperature\": 0.6, \"top_k\":10, \"do_sample\" :True, \"max_length\": 1000},\n",
    "                                      endpoint_kwargs={ \"CustomAttributes\": 'accept_eula=true', \"InferenceComponentName\" : llama2_13b_chat_InferenceComponentName}, \n",
    "                                      content_handler=content_handler )"
   ]
  },
  {
   "cell_type": "code",
   "execution_count": 51,
   "id": "0469e15e-f635-4299-813d-081b9f5f129e",
   "metadata": {},
   "outputs": [
    {
     "name": "stdout",
     "output_type": "stream",
     "text": [
      "input_variables=['text'] template='\\n              Write a summary of the following text delimited by triple backquotes.\\n              Return your response in bullet points which covers the key points of the text.\\n              ```{text}```\\n              BULLET POINT SUMMARY:\\n           '\n"
     ]
    }
   ],
   "source": [
    "template = \"\"\"\n",
    "              Write a summary of the following text delimited by triple backquotes.\n",
    "              Return your response in bullet points which covers the key points of the text.\n",
    "              ```{text}```\n",
    "              BULLET POINT SUMMARY:\n",
    "           \"\"\"\n",
    "\n",
    "prompt = PromptTemplate(template=template, input_variables=[\"text\"])\n",
    "print(prompt)"
   ]
  },
  {
   "cell_type": "code",
   "execution_count": 52,
   "id": "91ce6435-2fd8-4443-8077-0b2e4691221f",
   "metadata": {},
   "outputs": [],
   "source": [
    "llm_chain = LLMChain(prompt=prompt, llm=summary_model_llm)"
   ]
  },
  {
   "cell_type": "code",
   "execution_count": 22,
   "id": "d0884b5a-7359-4063-84e3-ff0cb971b2c4",
   "metadata": {},
   "outputs": [
    {
     "name": "stdout",
     "output_type": "stream",
     "text": [
      " • Fannie Mae is a purpose-driven company by charter and by choice,\n"
     ]
    }
   ],
   "source": [
    "# Result of Llama-2-7b-chat model\n",
    "print(llm_chain.run(summarize_pdf(pdf_filepath)))"
   ]
  },
  {
   "cell_type": "code",
   "execution_count": 53,
   "id": "ebecadc3-23f6-45e9-a860-e5b0e3b94de4",
   "metadata": {},
   "outputs": [
    {
     "name": "stdout",
     "output_type": "stream",
     "text": [
      "\n",
      "\n",
      "              • Fannie Mae is a purpose-driven company that provides liquidity\n"
     ]
    }
   ],
   "source": [
    "# Result of Llama-2-13b-chat model\n",
    "print(llm_chain.run(summarize_pdf(pdf_filepath)))"
   ]
  },
  {
   "cell_type": "code",
   "execution_count": null,
   "id": "781a7e8b-5a55-441a-b31e-0cd848bbb920",
   "metadata": {},
   "outputs": [],
   "source": []
  },
  {
   "cell_type": "code",
   "execution_count": 54,
   "id": "643ba51c-66b2-4841-9e8b-a90d7a15db55",
   "metadata": {},
   "outputs": [],
   "source": [
    "def summarize_pdf_full(pdf_filepath):\n",
    "    loader = PyPDFium2Loader(pdf_filepath)\n",
    "    data = loader.load()\n",
    "\n",
    "    text_splitter = CharacterTextSplitter(chunk_size=1000, chunk_overlap=0)\n",
    "    text_FM = text_splitter.split_documents(data)\n",
    "\n",
    "    template = \"\"\"\n",
    "              Write a concise summary of the following text delimited by triple backquotes.\n",
    "              Return your response in bullet points which covers the key points of the text.\n",
    "              ```{text}```\n",
    "              BULLET POINT SUMMARY:\n",
    "           \"\"\"\n",
    "\n",
    "    prompt = PromptTemplate(template=template, input_variables=[\"text\"])\n",
    "\n",
    "    llm_chain = LLMChain(prompt=prompt, llm=summary_model_llm)\n",
    "\n",
    "    return llm_chain.run(text_FM)"
   ]
  },
  {
   "cell_type": "code",
   "execution_count": 56,
   "id": "03c07d3b-19b4-4b70-aded-820a40b16dc8",
   "metadata": {},
   "outputs": [
    {
     "data": {
      "text/plain": [
       "'/home/sagemaker-user/6_extracted_FM-esg-report-2022.pdf'"
      ]
     },
     "execution_count": 56,
     "metadata": {},
     "output_type": "execute_result"
    }
   ],
   "source": [
    "pdf_filepath"
   ]
  },
  {
   "cell_type": "code",
   "execution_count": 38,
   "id": "6c3fd946-d003-4d19-b84d-815be0f2f755",
   "metadata": {},
   "outputs": [
    {
     "data": {
      "text/plain": [
       "' • Fannie Mae is a purpose-driven company by charter and by choice.'"
      ]
     },
     "execution_count": 38,
     "metadata": {},
     "output_type": "execute_result"
    }
   ],
   "source": [
    "# result of Llama2-7b-chat model\n",
    "summarize_pdf_full(pdf_filepath = pdf_filepath)"
   ]
  },
  {
   "cell_type": "code",
   "execution_count": 58,
   "id": "a6948e8e-a124-4ee5-a5d0-98c5d89fff69",
   "metadata": {},
   "outputs": [
    {
     "data": {
      "text/plain": [
       "'\\n\\n\\n\\n\\n\\n\\n\\n\\n\\n\\n\\n\\n\\n\\n\\n\\n\\n\\n\\n'"
      ]
     },
     "execution_count": 58,
     "metadata": {},
     "output_type": "execute_result"
    }
   ],
   "source": [
    "# result of Llama2-13b-chat model\n",
    "summarize_pdf_full(pdf_filepath = pdf_filepath)"
   ]
  },
  {
   "cell_type": "code",
   "execution_count": 25,
   "id": "59c3141d-ffe9-4be5-b7ed-5ae14cdaf686",
   "metadata": {},
   "outputs": [
    {
     "name": "stdout",
     "output_type": "stream",
     "text": [
      "Requirement already satisfied: gradio in /opt/conda/lib/python3.10/site-packages (4.15.0)\n",
      "Requirement already satisfied: aiofiles<24.0,>=22.0 in /opt/conda/lib/python3.10/site-packages (from gradio) (23.2.1)\n",
      "Requirement already satisfied: altair<6.0,>=4.2.0 in /opt/conda/lib/python3.10/site-packages (from gradio) (5.2.0)\n",
      "Requirement already satisfied: fastapi in /opt/conda/lib/python3.10/site-packages (from gradio) (0.109.0)\n",
      "Requirement already satisfied: ffmpy in /opt/conda/lib/python3.10/site-packages (from gradio) (0.3.1)\n",
      "Requirement already satisfied: gradio-client==0.8.1 in /opt/conda/lib/python3.10/site-packages (from gradio) (0.8.1)\n",
      "Requirement already satisfied: httpx in /opt/conda/lib/python3.10/site-packages (from gradio) (0.26.0)\n",
      "Requirement already satisfied: huggingface-hub>=0.19.3 in /opt/conda/lib/python3.10/site-packages (from gradio) (0.19.4)\n",
      "Requirement already satisfied: importlib-resources<7.0,>=1.3 in /opt/conda/lib/python3.10/site-packages (from gradio) (6.1.1)\n",
      "Requirement already satisfied: jinja2<4.0 in /opt/conda/lib/python3.10/site-packages (from gradio) (3.1.2)\n",
      "Requirement already satisfied: markupsafe~=2.0 in /opt/conda/lib/python3.10/site-packages (from gradio) (2.1.3)\n",
      "Requirement already satisfied: matplotlib~=3.0 in /opt/conda/lib/python3.10/site-packages (from gradio) (3.8.2)\n",
      "Requirement already satisfied: numpy~=1.0 in /opt/conda/lib/python3.10/site-packages (from gradio) (1.26.2)\n",
      "Requirement already satisfied: orjson~=3.0 in /opt/conda/lib/python3.10/site-packages (from gradio) (3.9.12)\n",
      "Requirement already satisfied: packaging in /opt/conda/lib/python3.10/site-packages (from gradio) (23.2)\n",
      "Requirement already satisfied: pandas<3.0,>=1.0 in /opt/conda/lib/python3.10/site-packages (from gradio) (2.1.4)\n",
      "Requirement already satisfied: pillow<11.0,>=8.0 in /opt/conda/lib/python3.10/site-packages (from gradio) (9.5.0)\n",
      "Requirement already satisfied: pydantic>=2.0 in /opt/conda/lib/python3.10/site-packages (from gradio) (2.5.1)\n",
      "Requirement already satisfied: pydub in /opt/conda/lib/python3.10/site-packages (from gradio) (0.25.1)\n",
      "Requirement already satisfied: python-multipart in /opt/conda/lib/python3.10/site-packages (from gradio) (0.0.6)\n",
      "Requirement already satisfied: pyyaml<7.0,>=5.0 in /opt/conda/lib/python3.10/site-packages (from gradio) (6.0.1)\n",
      "Requirement already satisfied: ruff>=0.1.7 in /opt/conda/lib/python3.10/site-packages (from gradio) (0.1.14)\n",
      "Requirement already satisfied: semantic-version~=2.0 in /opt/conda/lib/python3.10/site-packages (from gradio) (2.10.0)\n",
      "Requirement already satisfied: tomlkit==0.12.0 in /opt/conda/lib/python3.10/site-packages (from gradio) (0.12.0)\n",
      "Requirement already satisfied: typer<1.0,>=0.9 in /opt/conda/lib/python3.10/site-packages (from typer[all]<1.0,>=0.9->gradio) (0.9.0)\n",
      "Requirement already satisfied: typing-extensions~=4.0 in /opt/conda/lib/python3.10/site-packages (from gradio) (4.9.0)\n",
      "Requirement already satisfied: uvicorn>=0.14.0 in /opt/conda/lib/python3.10/site-packages (from gradio) (0.27.0)\n",
      "Requirement already satisfied: fsspec in /opt/conda/lib/python3.10/site-packages (from gradio-client==0.8.1->gradio) (2023.6.0)\n",
      "Requirement already satisfied: websockets<12.0,>=10.0 in /opt/conda/lib/python3.10/site-packages (from gradio-client==0.8.1->gradio) (11.0.3)\n",
      "Requirement already satisfied: jsonschema>=3.0 in /opt/conda/lib/python3.10/site-packages (from altair<6.0,>=4.2.0->gradio) (4.17.3)\n",
      "Requirement already satisfied: toolz in /opt/conda/lib/python3.10/site-packages (from altair<6.0,>=4.2.0->gradio) (0.12.0)\n",
      "Requirement already satisfied: filelock in /opt/conda/lib/python3.10/site-packages (from huggingface-hub>=0.19.3->gradio) (3.13.1)\n",
      "Requirement already satisfied: requests in /opt/conda/lib/python3.10/site-packages (from huggingface-hub>=0.19.3->gradio) (2.31.0)\n",
      "Requirement already satisfied: tqdm>=4.42.1 in /opt/conda/lib/python3.10/site-packages (from huggingface-hub>=0.19.3->gradio) (4.66.1)\n",
      "Requirement already satisfied: contourpy>=1.0.1 in /opt/conda/lib/python3.10/site-packages (from matplotlib~=3.0->gradio) (1.2.0)\n",
      "Requirement already satisfied: cycler>=0.10 in /opt/conda/lib/python3.10/site-packages (from matplotlib~=3.0->gradio) (0.12.1)\n",
      "Requirement already satisfied: fonttools>=4.22.0 in /opt/conda/lib/python3.10/site-packages (from matplotlib~=3.0->gradio) (4.46.0)\n",
      "Requirement already satisfied: kiwisolver>=1.3.1 in /opt/conda/lib/python3.10/site-packages (from matplotlib~=3.0->gradio) (1.4.5)\n",
      "Requirement already satisfied: pyparsing>=2.3.1 in /opt/conda/lib/python3.10/site-packages (from matplotlib~=3.0->gradio) (3.1.1)\n",
      "Requirement already satisfied: python-dateutil>=2.7 in /opt/conda/lib/python3.10/site-packages (from matplotlib~=3.0->gradio) (2.8.2)\n",
      "Requirement already satisfied: pytz>=2020.1 in /opt/conda/lib/python3.10/site-packages (from pandas<3.0,>=1.0->gradio) (2023.3)\n",
      "Requirement already satisfied: tzdata>=2022.1 in /opt/conda/lib/python3.10/site-packages (from pandas<3.0,>=1.0->gradio) (2023.3)\n",
      "Requirement already satisfied: annotated-types>=0.4.0 in /opt/conda/lib/python3.10/site-packages (from pydantic>=2.0->gradio) (0.6.0)\n",
      "Requirement already satisfied: pydantic-core==2.14.3 in /opt/conda/lib/python3.10/site-packages (from pydantic>=2.0->gradio) (2.14.3)\n",
      "Requirement already satisfied: click<9.0.0,>=7.1.1 in /opt/conda/lib/python3.10/site-packages (from typer<1.0,>=0.9->typer[all]<1.0,>=0.9->gradio) (8.1.7)\n",
      "Requirement already satisfied: colorama<0.5.0,>=0.4.3 in /opt/conda/lib/python3.10/site-packages (from typer[all]<1.0,>=0.9->gradio) (0.4.6)\n",
      "Requirement already satisfied: shellingham<2.0.0,>=1.3.0 in /opt/conda/lib/python3.10/site-packages (from typer[all]<1.0,>=0.9->gradio) (1.5.4)\n",
      "Requirement already satisfied: rich<14.0.0,>=10.11.0 in /opt/conda/lib/python3.10/site-packages (from typer[all]<1.0,>=0.9->gradio) (13.7.0)\n",
      "Requirement already satisfied: h11>=0.8 in /opt/conda/lib/python3.10/site-packages (from uvicorn>=0.14.0->gradio) (0.14.0)\n",
      "Requirement already satisfied: starlette<0.36.0,>=0.35.0 in /opt/conda/lib/python3.10/site-packages (from fastapi->gradio) (0.35.1)\n",
      "Requirement already satisfied: anyio in /opt/conda/lib/python3.10/site-packages (from httpx->gradio) (3.7.1)\n",
      "Requirement already satisfied: certifi in /opt/conda/lib/python3.10/site-packages (from httpx->gradio) (2023.11.17)\n",
      "Requirement already satisfied: httpcore==1.* in /opt/conda/lib/python3.10/site-packages (from httpx->gradio) (1.0.2)\n",
      "Requirement already satisfied: idna in /opt/conda/lib/python3.10/site-packages (from httpx->gradio) (3.6)\n",
      "Requirement already satisfied: sniffio in /opt/conda/lib/python3.10/site-packages (from httpx->gradio) (1.3.0)\n",
      "Requirement already satisfied: attrs>=17.4.0 in /opt/conda/lib/python3.10/site-packages (from jsonschema>=3.0->altair<6.0,>=4.2.0->gradio) (23.1.0)\n",
      "Requirement already satisfied: pyrsistent!=0.17.0,!=0.17.1,!=0.17.2,>=0.14.0 in /opt/conda/lib/python3.10/site-packages (from jsonschema>=3.0->altair<6.0,>=4.2.0->gradio) (0.20.0)\n",
      "Requirement already satisfied: six>=1.5 in /opt/conda/lib/python3.10/site-packages (from python-dateutil>=2.7->matplotlib~=3.0->gradio) (1.16.0)\n",
      "Requirement already satisfied: markdown-it-py>=2.2.0 in /opt/conda/lib/python3.10/site-packages (from rich<14.0.0,>=10.11.0->typer[all]<1.0,>=0.9->gradio) (3.0.0)\n",
      "Requirement already satisfied: pygments<3.0.0,>=2.13.0 in /opt/conda/lib/python3.10/site-packages (from rich<14.0.0,>=10.11.0->typer[all]<1.0,>=0.9->gradio) (2.17.2)\n",
      "Requirement already satisfied: exceptiongroup in /opt/conda/lib/python3.10/site-packages (from anyio->httpx->gradio) (1.2.0)\n",
      "Requirement already satisfied: charset-normalizer<4,>=2 in /opt/conda/lib/python3.10/site-packages (from requests->huggingface-hub>=0.19.3->gradio) (3.3.2)\n",
      "Requirement already satisfied: urllib3<3,>=1.21.1 in /opt/conda/lib/python3.10/site-packages (from requests->huggingface-hub>=0.19.3->gradio) (1.26.18)\n",
      "Requirement already satisfied: mdurl~=0.1 in /opt/conda/lib/python3.10/site-packages (from markdown-it-py>=2.2.0->rich<14.0.0,>=10.11.0->typer[all]<1.0,>=0.9->gradio) (0.1.0)\n"
     ]
    }
   ],
   "source": [
    "!pip install gradio"
   ]
  },
  {
   "cell_type": "code",
   "execution_count": 26,
   "id": "90d178c6-9b63-4455-826d-5ec7c1575f2c",
   "metadata": {},
   "outputs": [
    {
     "name": "stdout",
     "output_type": "stream",
     "text": [
      "4.15.0\n"
     ]
    }
   ],
   "source": [
    "import gradio as gr\n",
    "print(gr.__version__)"
   ]
  },
  {
   "cell_type": "code",
   "execution_count": null,
   "id": "a181bfb7-d62b-4420-b063-054d228af6d4",
   "metadata": {},
   "outputs": [],
   "source": [
    "# C:\\Users\\Dipjyoti\\PycharmProjects\\GenerativeAI-projects\\Summarization-use-case\\6_extracted_FM-esg-report-2022.pdf\n",
    "# the above path is not going to work in Gradio - use the Sagemaker path"
   ]
  },
  {
   "cell_type": "code",
   "execution_count": 39,
   "id": "a357d2a2-79b6-4f75-91e4-96a9d62e9ece",
   "metadata": {},
   "outputs": [
    {
     "data": {
      "text/plain": [
       "'/home/sagemaker-user/6_extracted_FM-esg-report-2022.pdf'"
      ]
     },
     "execution_count": 39,
     "metadata": {},
     "output_type": "execute_result"
    }
   ],
   "source": [
    "pdf_filepath"
   ]
  },
  {
   "cell_type": "code",
   "execution_count": 40,
   "id": "aa924f08-04d3-4bca-8330-c4401bc828b0",
   "metadata": {},
   "outputs": [
    {
     "name": "stdout",
     "output_type": "stream",
     "text": [
      "Running on local URL:  http://127.0.0.1:7866\n",
      "Running on public URL: https://2bd0a720ff5f172289.gradio.live\n",
      "\n",
      "This share link expires in 72 hours. For free permanent hosting and GPU upgrades, run `gradio deploy` from Terminal to deploy to Spaces (https://huggingface.co/spaces)\n"
     ]
    },
    {
     "data": {
      "text/html": [
       "<div><iframe src=\"https://2bd0a720ff5f172289.gradio.live\" width=\"100%\" height=\"500\" allow=\"autoplay; camera; microphone; clipboard-read; clipboard-write;\" frameborder=\"0\" allowfullscreen></iframe></div>"
      ],
      "text/plain": [
       "<IPython.core.display.HTML object>"
      ]
     },
     "metadata": {},
     "output_type": "display_data"
    },
    {
     "name": "stderr",
     "output_type": "stream",
     "text": [
      "Traceback (most recent call last):\n",
      "  File \"/opt/conda/lib/python3.10/site-packages/gradio/queueing.py\", line 495, in call_prediction\n",
      "    output = await route_utils.call_process_api(\n",
      "  File \"/opt/conda/lib/python3.10/site-packages/gradio/route_utils.py\", line 232, in call_process_api\n",
      "    output = await app.get_blocks().process_api(\n",
      "  File \"/opt/conda/lib/python3.10/site-packages/gradio/blocks.py\", line 1561, in process_api\n",
      "    result = await self.call_function(\n",
      "  File \"/opt/conda/lib/python3.10/site-packages/gradio/blocks.py\", line 1179, in call_function\n",
      "    prediction = await anyio.to_thread.run_sync(\n",
      "  File \"/opt/conda/lib/python3.10/site-packages/anyio/to_thread.py\", line 33, in run_sync\n",
      "    return await get_asynclib().run_sync_in_worker_thread(\n",
      "  File \"/opt/conda/lib/python3.10/site-packages/anyio/_backends/_asyncio.py\", line 877, in run_sync_in_worker_thread\n",
      "    return await future\n",
      "  File \"/opt/conda/lib/python3.10/site-packages/anyio/_backends/_asyncio.py\", line 807, in run\n",
      "    result = context.run(func, *args)\n",
      "  File \"/opt/conda/lib/python3.10/site-packages/gradio/utils.py\", line 678, in wrapper\n",
      "    response = f(*args, **kwargs)\n",
      "  File \"/tmp/ipykernel_1987/1530020258.py\", line 2, in summarize_pdf_full\n",
      "    loader = PyPDFium2Loader(pdf_filepath)\n",
      "  File \"/opt/conda/lib/python3.10/site-packages/langchain/document_loaders/pdf.py\", line 183, in __init__\n",
      "    super().__init__(file_path, headers=headers)\n",
      "  File \"/opt/conda/lib/python3.10/site-packages/langchain/document_loaders/pdf.py\", line 100, in __init__\n",
      "    raise ValueError(\"File path %s is not a valid file or url\" % self.file_path)\n",
      "ValueError: File path C:\\Users\\Dipjyoti\\PycharmProjects\\GenerativeAI-projects\\Summarization-use-case\\6_extracted_FM-esg-report-2022.pdf is not a valid file or url\n"
     ]
    }
   ],
   "source": [
    "input_pdf_path = gr.components.Textbox(label=\"Provide the PDF file path\")\n",
    "output_summary = gr.components.Textbox(label=\"Summary\")\n",
    "\n",
    "\n",
    "\n",
    "interface = gr.Interface(\n",
    "    fn=summarize_pdf_full,\n",
    "    inputs=input_pdf_path,\n",
    "    outputs=output_summary,\n",
    "    title=\"PDF Summarizer\",\n",
    "    description=\"Provide PDF file path to get the summary.\"\n",
    ").queue().launch(share=True, debug = False)"
   ]
  },
  {
   "cell_type": "code",
   "execution_count": 31,
   "id": "6e0508fb-29c6-4608-9b39-4b83385f051d",
   "metadata": {},
   "outputs": [
    {
     "data": {
      "text/plain": [
       "'/home/sagemaker-user'"
      ]
     },
     "execution_count": 31,
     "metadata": {},
     "output_type": "execute_result"
    }
   ],
   "source": [
    "# Provide the PDF file path = /home/sagemaker-user/6_extracted_FM-esg-report-2022.pdf"
   ]
  },
  {
   "cell_type": "code",
   "execution_count": 41,
   "id": "5517df55-f64c-4812-aca6-a2a06efee394",
   "metadata": {},
   "outputs": [
    {
     "ename": "AttributeError",
     "evalue": "'SageMakerRuntime' object has no attribute 'delete_endpoint'",
     "output_type": "error",
     "traceback": [
      "\u001b[0;31m---------------------------------------------------------------------------\u001b[0m",
      "\u001b[0;31mAttributeError\u001b[0m                            Traceback (most recent call last)",
      "Cell \u001b[0;32mIn[41], line 3\u001b[0m\n\u001b[1;32m      1\u001b[0m \u001b[38;5;66;03m# delete the inference endpoint to avoid incurring unnecessary costs \u001b[39;00m\n\u001b[1;32m      2\u001b[0m client \u001b[38;5;241m=\u001b[39m boto3\u001b[38;5;241m.\u001b[39mclient(\u001b[38;5;124m'\u001b[39m\u001b[38;5;124mruntime.sagemaker\u001b[39m\u001b[38;5;124m'\u001b[39m)\n\u001b[0;32m----> 3\u001b[0m \u001b[43mclient\u001b[49m\u001b[38;5;241;43m.\u001b[39;49m\u001b[43mdelete_endpoint\u001b[49m(EndpointName\u001b[38;5;241m=\u001b[39mllama2_7b_chat_endpoint_name)\n",
      "File \u001b[0;32m/opt/conda/lib/python3.10/site-packages/botocore/client.py:906\u001b[0m, in \u001b[0;36mBaseClient.__getattr__\u001b[0;34m(self, item)\u001b[0m\n\u001b[1;32m    903\u001b[0m \u001b[38;5;28;01mif\u001b[39;00m event_response \u001b[38;5;129;01mis\u001b[39;00m \u001b[38;5;129;01mnot\u001b[39;00m \u001b[38;5;28;01mNone\u001b[39;00m:\n\u001b[1;32m    904\u001b[0m     \u001b[38;5;28;01mreturn\u001b[39;00m event_response\n\u001b[0;32m--> 906\u001b[0m \u001b[38;5;28;01mraise\u001b[39;00m \u001b[38;5;167;01mAttributeError\u001b[39;00m(\n\u001b[1;32m    907\u001b[0m     \u001b[38;5;124mf\u001b[39m\u001b[38;5;124m\"\u001b[39m\u001b[38;5;124m'\u001b[39m\u001b[38;5;132;01m{\u001b[39;00m\u001b[38;5;28mself\u001b[39m\u001b[38;5;241m.\u001b[39m\u001b[38;5;18m__class__\u001b[39m\u001b[38;5;241m.\u001b[39m\u001b[38;5;18m__name__\u001b[39m\u001b[38;5;132;01m}\u001b[39;00m\u001b[38;5;124m'\u001b[39m\u001b[38;5;124m object has no attribute \u001b[39m\u001b[38;5;124m'\u001b[39m\u001b[38;5;132;01m{\u001b[39;00mitem\u001b[38;5;132;01m}\u001b[39;00m\u001b[38;5;124m'\u001b[39m\u001b[38;5;124m\"\u001b[39m\n\u001b[1;32m    908\u001b[0m )\n",
      "\u001b[0;31mAttributeError\u001b[0m: 'SageMakerRuntime' object has no attribute 'delete_endpoint'"
     ]
    }
   ],
   "source": [
    "# delete the inference endpoint to avoid incurring unnecessary costs \n",
    "client = boto3.client('runtime.sagemaker')\n",
    "client.delete_endpoint(EndpointName=llama2_7b_chat_endpoint_name)"
   ]
  },
  {
   "cell_type": "code",
   "execution_count": null,
   "id": "d64167bc-fb4a-4fbc-b0fa-35700d17b83d",
   "metadata": {},
   "outputs": [],
   "source": []
  }
 ],
 "metadata": {
  "kernelspec": {
   "display_name": "Python 3 (ipykernel)",
   "language": "python",
   "name": "python3"
  },
  "language_info": {
   "codemirror_mode": {
    "name": "ipython",
    "version": 3
   },
   "file_extension": ".py",
   "mimetype": "text/x-python",
   "name": "python",
   "nbconvert_exporter": "python",
   "pygments_lexer": "ipython3",
   "version": "3.10.13"
  }
 },
 "nbformat": 4,
 "nbformat_minor": 5
}
