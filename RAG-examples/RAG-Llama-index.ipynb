{
 "cells": [
  {
   "cell_type": "markdown",
   "id": "381d51b8-4a49-4141-9572-923065706d76",
   "metadata": {},
   "source": [
    "#### RAG Pipeline With the LLama Index"
   ]
  },
  {
   "cell_type": "code",
   "execution_count": 34,
   "id": "fd9e0623-249c-4059-ab13-8f67e7fa55b1",
   "metadata": {},
   "outputs": [
    {
     "data": {
      "text/plain": [
       "'C:\\\\Users\\\\Dipjyoti\\\\PycharmProjects\\\\GenerativeAI-projects\\\\RAG-practice-examples'"
      ]
     },
     "execution_count": 34,
     "metadata": {},
     "output_type": "execute_result"
    }
   ],
   "source": [
    "pwd"
   ]
  },
  {
   "cell_type": "code",
   "execution_count": null,
   "id": "c1a8b520-6912-4cab-839d-024c82eb20d9",
   "metadata": {},
   "outputs": [],
   "source": [
    "# RAG pipeline to process PDF documents"
   ]
  },
  {
   "cell_type": "code",
   "execution_count": 1,
   "id": "3d4a3540-d6a0-42a6-a2a0-459651942fe2",
   "metadata": {},
   "outputs": [
    {
     "name": "stdout",
     "output_type": "stream",
     "text": [
      "Collecting llama-index\n",
      "  Obtaining dependency information for llama-index from https://files.pythonhosted.org/packages/1f/8f/6dab0520d0d4e355928a705ccab2ca30162343811b5cfe1acf5e0fa5b98f/llama_index-0.9.34-py3-none-any.whl.metadata\n",
      "  Using cached llama_index-0.9.34-py3-none-any.whl.metadata (8.4 kB)\n",
      "Requirement already satisfied: SQLAlchemy[asyncio]>=1.4.49 in c:\\users\\dipjyoti\\.conda\\envs\\langchain-webapp\\lib\\site-packages (from llama-index) (2.0.16)\n",
      "Requirement already satisfied: aiohttp<4.0.0,>=3.8.6 in c:\\users\\dipjyoti\\.conda\\envs\\langchain-webapp\\lib\\site-packages (from llama-index) (3.9.1)\n",
      "Requirement already satisfied: beautifulsoup4<5.0.0,>=4.12.2 in c:\\users\\dipjyoti\\.conda\\envs\\langchain-webapp\\lib\\site-packages (from llama-index) (4.12.2)\n",
      "Requirement already satisfied: dataclasses-json in c:\\users\\dipjyoti\\.conda\\envs\\langchain-webapp\\lib\\site-packages (from llama-index) (0.5.8)\n",
      "Requirement already satisfied: deprecated>=1.2.9.3 in c:\\users\\dipjyoti\\.conda\\envs\\langchain-webapp\\lib\\site-packages (from llama-index) (1.2.14)\n",
      "Requirement already satisfied: fsspec>=2023.5.0 in c:\\users\\dipjyoti\\.conda\\envs\\langchain-webapp\\lib\\site-packages (from llama-index) (2023.10.0)\n",
      "Requirement already satisfied: httpx in c:\\users\\dipjyoti\\.conda\\envs\\langchain-webapp\\lib\\site-packages (from llama-index) (0.26.0)\n",
      "Requirement already satisfied: nest-asyncio<2.0.0,>=1.5.8 in c:\\users\\dipjyoti\\.conda\\envs\\langchain-webapp\\lib\\site-packages (from llama-index) (1.5.8)\n",
      "Requirement already satisfied: networkx>=3.0 in c:\\users\\dipjyoti\\.conda\\envs\\langchain-webapp\\lib\\site-packages (from llama-index) (3.2.1)\n",
      "Requirement already satisfied: nltk<4.0.0,>=3.8.1 in c:\\users\\dipjyoti\\.conda\\envs\\langchain-webapp\\lib\\site-packages (from llama-index) (3.8.1)\n",
      "Requirement already satisfied: numpy in c:\\users\\dipjyoti\\.conda\\envs\\langchain-webapp\\lib\\site-packages (from llama-index) (1.25.0)\n",
      "Collecting openai>=1.1.0 (from llama-index)\n",
      "  Obtaining dependency information for openai>=1.1.0 from https://files.pythonhosted.org/packages/f1/d8/590a68d390501faf48f4e57b098076df02afd003ac880f50d3b0704f7773/openai-1.8.0-py3-none-any.whl.metadata\n",
      "  Using cached openai-1.8.0-py3-none-any.whl.metadata (18 kB)\n",
      "Requirement already satisfied: pandas in c:\\users\\dipjyoti\\.conda\\envs\\langchain-webapp\\lib\\site-packages (from llama-index) (2.0.2)\n",
      "Requirement already satisfied: requests>=2.31.0 in c:\\users\\dipjyoti\\.conda\\envs\\langchain-webapp\\lib\\site-packages (from llama-index) (2.31.0)\n",
      "Requirement already satisfied: tenacity<9.0.0,>=8.2.0 in c:\\users\\dipjyoti\\.conda\\envs\\langchain-webapp\\lib\\site-packages (from llama-index) (8.2.2)\n",
      "Requirement already satisfied: tiktoken>=0.3.3 in c:\\users\\dipjyoti\\.conda\\envs\\langchain-webapp\\lib\\site-packages (from llama-index) (0.5.1)\n",
      "Requirement already satisfied: typing-extensions>=4.5.0 in c:\\users\\dipjyoti\\.conda\\envs\\langchain-webapp\\lib\\site-packages (from llama-index) (4.9.0)\n",
      "Requirement already satisfied: typing-inspect>=0.8.0 in c:\\users\\dipjyoti\\.conda\\envs\\langchain-webapp\\lib\\site-packages (from llama-index) (0.9.0)\n",
      "Requirement already satisfied: attrs>=17.3.0 in c:\\users\\dipjyoti\\.conda\\envs\\langchain-webapp\\lib\\site-packages (from aiohttp<4.0.0,>=3.8.6->llama-index) (23.1.0)\n",
      "Requirement already satisfied: multidict<7.0,>=4.5 in c:\\users\\dipjyoti\\.conda\\envs\\langchain-webapp\\lib\\site-packages (from aiohttp<4.0.0,>=3.8.6->llama-index) (6.0.4)\n",
      "Requirement already satisfied: yarl<2.0,>=1.0 in c:\\users\\dipjyoti\\.conda\\envs\\langchain-webapp\\lib\\site-packages (from aiohttp<4.0.0,>=3.8.6->llama-index) (1.9.2)\n",
      "Requirement already satisfied: frozenlist>=1.1.1 in c:\\users\\dipjyoti\\.conda\\envs\\langchain-webapp\\lib\\site-packages (from aiohttp<4.0.0,>=3.8.6->llama-index) (1.3.3)\n",
      "Requirement already satisfied: aiosignal>=1.1.2 in c:\\users\\dipjyoti\\.conda\\envs\\langchain-webapp\\lib\\site-packages (from aiohttp<4.0.0,>=3.8.6->llama-index) (1.3.1)\n",
      "Requirement already satisfied: soupsieve>1.2 in c:\\users\\dipjyoti\\.conda\\envs\\langchain-webapp\\lib\\site-packages (from beautifulsoup4<5.0.0,>=4.12.2->llama-index) (2.5)\n",
      "Requirement already satisfied: wrapt<2,>=1.10 in c:\\users\\dipjyoti\\.conda\\envs\\langchain-webapp\\lib\\site-packages (from deprecated>=1.2.9.3->llama-index) (1.16.0)\n",
      "Requirement already satisfied: click in c:\\users\\dipjyoti\\.conda\\envs\\langchain-webapp\\lib\\site-packages (from nltk<4.0.0,>=3.8.1->llama-index) (8.1.3)\n",
      "Requirement already satisfied: joblib in c:\\users\\dipjyoti\\.conda\\envs\\langchain-webapp\\lib\\site-packages (from nltk<4.0.0,>=3.8.1->llama-index) (1.3.2)\n",
      "Requirement already satisfied: regex>=2021.8.3 in c:\\users\\dipjyoti\\.conda\\envs\\langchain-webapp\\lib\\site-packages (from nltk<4.0.0,>=3.8.1->llama-index) (2023.10.3)\n",
      "Requirement already satisfied: tqdm in c:\\users\\dipjyoti\\.conda\\envs\\langchain-webapp\\lib\\site-packages (from nltk<4.0.0,>=3.8.1->llama-index) (4.65.0)\n",
      "Requirement already satisfied: anyio<5,>=3.5.0 in c:\\users\\dipjyoti\\.conda\\envs\\langchain-webapp\\lib\\site-packages (from openai>=1.1.0->llama-index) (3.7.0)\n",
      "Requirement already satisfied: distro<2,>=1.7.0 in c:\\users\\dipjyoti\\.conda\\envs\\langchain-webapp\\lib\\site-packages (from openai>=1.1.0->llama-index) (1.9.0)\n",
      "Requirement already satisfied: pydantic<3,>=1.9.0 in c:\\users\\dipjyoti\\.conda\\envs\\langchain-webapp\\lib\\site-packages (from openai>=1.1.0->llama-index) (2.5.3)\n",
      "Requirement already satisfied: sniffio in c:\\users\\dipjyoti\\.conda\\envs\\langchain-webapp\\lib\\site-packages (from openai>=1.1.0->llama-index) (1.3.0)\n",
      "Requirement already satisfied: certifi in c:\\users\\dipjyoti\\.conda\\envs\\langchain-webapp\\lib\\site-packages (from httpx->llama-index) (2023.5.7)\n",
      "Requirement already satisfied: httpcore==1.* in c:\\users\\dipjyoti\\.conda\\envs\\langchain-webapp\\lib\\site-packages (from httpx->llama-index) (1.0.2)\n",
      "Requirement already satisfied: idna in c:\\users\\dipjyoti\\.conda\\envs\\langchain-webapp\\lib\\site-packages (from httpx->llama-index) (3.4)\n",
      "Requirement already satisfied: h11<0.15,>=0.13 in c:\\users\\dipjyoti\\.conda\\envs\\langchain-webapp\\lib\\site-packages (from httpcore==1.*->httpx->llama-index) (0.14.0)\n",
      "Requirement already satisfied: charset-normalizer<4,>=2 in c:\\users\\dipjyoti\\.conda\\envs\\langchain-webapp\\lib\\site-packages (from requests>=2.31.0->llama-index) (3.1.0)\n",
      "Requirement already satisfied: urllib3<3,>=1.21.1 in c:\\users\\dipjyoti\\.conda\\envs\\langchain-webapp\\lib\\site-packages (from requests>=2.31.0->llama-index) (2.0.3)\n",
      "Requirement already satisfied: greenlet!=0.4.17 in c:\\users\\dipjyoti\\.conda\\envs\\langchain-webapp\\lib\\site-packages (from SQLAlchemy[asyncio]>=1.4.49->llama-index) (2.0.2)\n",
      "Requirement already satisfied: mypy-extensions>=0.3.0 in c:\\users\\dipjyoti\\.conda\\envs\\langchain-webapp\\lib\\site-packages (from typing-inspect>=0.8.0->llama-index) (1.0.0)\n",
      "Requirement already satisfied: marshmallow<4.0.0,>=3.3.0 in c:\\users\\dipjyoti\\.conda\\envs\\langchain-webapp\\lib\\site-packages (from dataclasses-json->llama-index) (3.19.0)\n",
      "Requirement already satisfied: marshmallow-enum<2.0.0,>=1.5.1 in c:\\users\\dipjyoti\\.conda\\envs\\langchain-webapp\\lib\\site-packages (from dataclasses-json->llama-index) (1.5.1)\n",
      "Requirement already satisfied: python-dateutil>=2.8.2 in c:\\users\\dipjyoti\\.conda\\envs\\langchain-webapp\\lib\\site-packages (from pandas->llama-index) (2.8.2)\n",
      "Requirement already satisfied: pytz>=2020.1 in c:\\users\\dipjyoti\\.conda\\envs\\langchain-webapp\\lib\\site-packages (from pandas->llama-index) (2023.3)\n",
      "Requirement already satisfied: tzdata>=2022.1 in c:\\users\\dipjyoti\\.conda\\envs\\langchain-webapp\\lib\\site-packages (from pandas->llama-index) (2023.3)\n",
      "Requirement already satisfied: packaging>=17.0 in c:\\users\\dipjyoti\\.conda\\envs\\langchain-webapp\\lib\\site-packages (from marshmallow<4.0.0,>=3.3.0->dataclasses-json->llama-index) (23.1)\n",
      "Requirement already satisfied: annotated-types>=0.4.0 in c:\\users\\dipjyoti\\.conda\\envs\\langchain-webapp\\lib\\site-packages (from pydantic<3,>=1.9.0->openai>=1.1.0->llama-index) (0.6.0)\n",
      "Requirement already satisfied: pydantic-core==2.14.6 in c:\\users\\dipjyoti\\.conda\\envs\\langchain-webapp\\lib\\site-packages (from pydantic<3,>=1.9.0->openai>=1.1.0->llama-index) (2.14.6)\n",
      "Requirement already satisfied: six>=1.5 in c:\\users\\dipjyoti\\.conda\\envs\\langchain-webapp\\lib\\site-packages (from python-dateutil>=2.8.2->pandas->llama-index) (1.16.0)\n",
      "Requirement already satisfied: colorama in c:\\users\\dipjyoti\\.conda\\envs\\langchain-webapp\\lib\\site-packages (from tqdm->nltk<4.0.0,>=3.8.1->llama-index) (0.4.6)\n",
      "Using cached llama_index-0.9.34-py3-none-any.whl (15.8 MB)\n",
      "Using cached openai-1.8.0-py3-none-any.whl (222 kB)\n",
      "Installing collected packages: openai, llama-index\n",
      "  Attempting uninstall: openai\n",
      "    Found existing installation: openai 0.28.1\n",
      "    Uninstalling openai-0.28.1:\n",
      "      Successfully uninstalled openai-0.28.1\n",
      "Successfully installed llama-index-0.9.34 openai-1.8.0\n"
     ]
    }
   ],
   "source": [
    "!pip install llama-index"
   ]
  },
  {
   "cell_type": "code",
   "execution_count": 5,
   "id": "61c6f8e5-e138-4db5-b6c4-022fa13cc8bf",
   "metadata": {},
   "outputs": [],
   "source": [
    "import os\n",
    "from llama_index import ServiceContext, LLMPredictor, OpenAIEmbedding, PromptHelper\n",
    "from llama_index.llms import OpenAI\n",
    "from llama_index.text_splitter import TokenTextSplitter\n",
    "from llama_index.node_parser import SimpleNodeParser\n",
    "from llama_index import VectorStoreIndex, SimpleDirectoryReader\n",
    "from llama_index import set_global_service_context\n",
    "import openai\n",
    "import tiktoken"
   ]
  },
  {
   "cell_type": "code",
   "execution_count": 6,
   "id": "cb154f8b-4d25-47c0-b646-f6f7e6e28bea",
   "metadata": {},
   "outputs": [],
   "source": [
    "# get the Open API key from a config file:\n",
    "from configparser import ConfigParser\n",
    "config_object = ConfigParser()\n",
    "config_object.read(\"../../config_genai.ini\")\n",
    "openai.api_key = config_object[\"OPENAI\"][\"openai_api_key\"]"
   ]
  },
  {
   "cell_type": "code",
   "execution_count": 10,
   "id": "6c1813d7-b3ff-4f1c-acae-b40edd582ee3",
   "metadata": {},
   "outputs": [
    {
     "name": "stdout",
     "output_type": "stream",
     "text": [
      "Collecting pypdf\n",
      "  Obtaining dependency information for pypdf from https://files.pythonhosted.org/packages/12/cd/12fa4ca4262f78a984ba9cce95be824e9ce7f9dbcc1529ff4966591caef6/pypdf-4.0.0-py3-none-any.whl.metadata\n",
      "  Downloading pypdf-4.0.0-py3-none-any.whl.metadata (7.4 kB)\n",
      "Downloading pypdf-4.0.0-py3-none-any.whl (283 kB)\n",
      "   ---------------------------------------- 0.0/283.9 kB ? eta -:--:--\n",
      "   - -------------------------------------- 10.2/283.9 kB ? eta -:--:--\n",
      "   - -------------------------------------- 10.2/283.9 kB ? eta -:--:--\n",
      "   ----- --------------------------------- 41.0/283.9 kB 326.8 kB/s eta 0:00:01\n",
      "   ------------------- ------------------ 143.4/283.9 kB 944.1 kB/s eta 0:00:01\n",
      "   ------------------------------------ --- 256.0/283.9 kB 1.3 MB/s eta 0:00:01\n",
      "   ---------------------------------------- 283.9/283.9 kB 1.2 MB/s eta 0:00:00\n",
      "Installing collected packages: pypdf\n",
      "Successfully installed pypdf-4.0.0\n"
     ]
    }
   ],
   "source": [
    "!pip install pypdf"
   ]
  },
  {
   "cell_type": "code",
   "execution_count": 11,
   "id": "c29c0f7b-9ab3-4d0c-baf6-3404c1722136",
   "metadata": {},
   "outputs": [],
   "source": [
    "import pypdf"
   ]
  },
  {
   "cell_type": "code",
   "execution_count": null,
   "id": "cb6f8806-842e-4f4d-893a-038137b9f10f",
   "metadata": {},
   "outputs": [],
   "source": [
    "# Save the pdf document : Tesla 2023 Q3 Earnigs Report in the Data Folder\n",
    "# https://digitalassets.tesla.com/tesla-contents/image/upload/IR/TSLA-Q3-2023-Update-3.pdf"
   ]
  },
  {
   "cell_type": "code",
   "execution_count": 12,
   "id": "9d9ba99d-82f2-4e41-97d2-308a7d6afebb",
   "metadata": {},
   "outputs": [],
   "source": [
    "# Load documents\n",
    "documents = SimpleDirectoryReader(input_dir='data/tesla-docs').load_data()"
   ]
  },
  {
   "cell_type": "code",
   "execution_count": 13,
   "id": "d142d630-e1e5-4aaa-ad36-93f9f69eac99",
   "metadata": {},
   "outputs": [
    {
     "data": {
      "text/plain": [
       "[Document(id_='60134482-5c91-47cd-8032-9c6107eaba09', embedding=None, metadata={'page_label': '1', 'file_name': 'TSLA-Q3-2023-Update-3.pdf', 'file_path': 'data\\\\TSLA-Q3-2023-Update-3.pdf', 'file_type': 'application/pdf', 'file_size': 3455728, 'creation_date': '2024-01-21', 'last_modified_date': '2024-01-21', 'last_accessed_date': '2024-01-21'}, excluded_embed_metadata_keys=['file_name', 'file_type', 'file_size', 'creation_date', 'last_modified_date', 'last_accessed_date'], excluded_llm_metadata_keys=['file_name', 'file_type', 'file_size', 'creation_date', 'last_modified_date', 'last_accessed_date'], relationships={}, hash='1f4298130083056ddcafa776290c3e88473688a5222256c0aca9c621adebff45', text='Q3 2023 Update\\n1', start_char_idx=None, end_char_idx=None, text_template='{metadata_str}\\n\\n{content}', metadata_template='{key}: {value}', metadata_seperator='\\n'),\n",
       " Document(id_='370b7a5a-f615-438a-b5e0-704df0213b2e', embedding=None, metadata={'page_label': '2', 'file_name': 'TSLA-Q3-2023-Update-3.pdf', 'file_path': 'data\\\\TSLA-Q3-2023-Update-3.pdf', 'file_type': 'application/pdf', 'file_size': 3455728, 'creation_date': '2024-01-21', 'last_modified_date': '2024-01-21', 'last_accessed_date': '2024-01-21'}, excluded_embed_metadata_keys=['file_name', 'file_type', 'file_size', 'creation_date', 'last_modified_date', 'last_accessed_date'], excluded_llm_metadata_keys=['file_name', 'file_type', 'file_size', 'creation_date', 'last_modified_date', 'last_accessed_date'], relationships={}, hash='f5dc89380e021dc91b017c738c9fe552c7617b39c3994c64ed93604a16c359cb', text='Highlights 03\\nFinancial Summary 04\\nOperational Summary 06\\nVehicle Capacity 07\\nCore Technology 08\\nOther Highlights 09\\nOutlook 10\\nPhotos & Charts 11\\nKey Metrics 16\\nFinancial Statements 19\\nAdditional Information 25', start_char_idx=None, end_char_idx=None, text_template='{metadata_str}\\n\\n{content}', metadata_template='{key}: {value}', metadata_seperator='\\n'),\n",
       " Document(id_='da3ffffd-bf12-4549-81d5-d3725e2d17b9', embedding=None, metadata={'page_label': '3', 'file_name': 'TSLA-Q3-2023-Update-3.pdf', 'file_path': 'data\\\\TSLA-Q3-2023-Update-3.pdf', 'file_type': 'application/pdf', 'file_size': 3455728, 'creation_date': '2024-01-21', 'last_modified_date': '2024-01-21', 'last_accessed_date': '2024-01-21'}, excluded_embed_metadata_keys=['file_name', 'file_type', 'file_size', 'creation_date', 'last_modified_date', 'last_accessed_date'], excluded_llm_metadata_keys=['file_name', 'file_type', 'file_size', 'creation_date', 'last_modified_date', 'last_accessed_date'], relationships={}, hash='83e38d79152990bff3f7fdeddb4941a66cb783cacb8e8a8cbee4d3ee68a3704b', text='S U M M A R Y H I G H L I G H T S  \\n(1) Excludes SBC (stock -based compensation)\\n(2) Free cash flow = operating cash flow less capex\\n(3) Includes cash, cash equivalents and investments\\n(4) Calculated by dividing Cost of Automotive Sales Revenue by respective quarter’s new deliveries (ex -operating leases)Profitability 7.6% operating margin in Q3\\n$1.8B GAAP operating income in Q3\\n$1.9B GAAP net income in Q3\\n$2.3B non -GAAP net income1 in Q3Our main objectives remained unchanged in Q3 -2023: reducing cost per \\nvehicle, free cash flow generation while maximizing delivery volumes and \\ncontinued investment in AI and other growth projects.\\nOur cost of goods sold per vehicle4decreased to ~$37,500 in Q3. While \\nproduction cost at our new factories remained higher than our established \\nfactories, we have implemented necessary upgrades in Q3 to enable \\nfurther unit cost reductions. We continue to believe that an industry leader needs to be a cost leader.\\nDuring a high interest rate environment, we believe focusing on investments in R&D and capital expenditures for future growth, while \\nmaintaining positive free cash flow, is the right approach. Year -to-date, \\nour free cash flow reached $2.3B while our cash and \\ninvestments position continues to improve.\\nWe have more than doubled the size of our AI training compute to accommodate for our growing dataset as well as our Optimus robot project. Our humanoid robot is currently being trained for simple tasks through AI rather than hard -coded software, and its hardware is being \\nfurther upgraded.\\nLastly, with a combined gross profit generation of over $0.5B in Q3, our \\nEnergy Generation and Storage business and Services and Other business \\nhave become meaningful contributors to our profitability.Cash Operating cash flow of $3.3B in Q3\\nFree cash flow2of $0.8B in Q3\\n$3.0B increase in our cash and investments3QoQ to $26.1B\\nOperations 4.0 GWh of Energy Storage deployed in Q3\\nMore than doubled AI training compute', start_char_idx=None, end_char_idx=None, text_template='{metadata_str}\\n\\n{content}', metadata_template='{key}: {value}', metadata_seperator='\\n'),\n",
       " Document(id_='f0c15dee-b064-4c87-a02b-4713b4d86f66', embedding=None, metadata={'page_label': '4', 'file_name': 'TSLA-Q3-2023-Update-3.pdf', 'file_path': 'data\\\\TSLA-Q3-2023-Update-3.pdf', 'file_type': 'application/pdf', 'file_size': 3455728, 'creation_date': '2024-01-21', 'last_modified_date': '2024-01-21', 'last_accessed_date': '2024-01-21'}, excluded_embed_metadata_keys=['file_name', 'file_type', 'file_size', 'creation_date', 'last_modified_date', 'last_accessed_date'], excluded_llm_metadata_keys=['file_name', 'file_type', 'file_size', 'creation_date', 'last_modified_date', 'last_accessed_date'], relationships={}, hash='e8e585237d5d7e0199d0cab81f344b88345b6489f55bf5ec0eae31fce24432e0', text='F I N A N C I A L S U M M A R Y\\n(Unaudited)\\n($ in millions, except percentages and per share data) Q3-2022 Q4-2022 Q1-2023 Q2-2023 Q3-2023 YoY\\nTotal automotive revenues 18,692 21,307 19,963 21,268 19,625 5%\\nEnergy generation and storage revenue 1,117 1,310 1,529 1,509 1,559 40%\\nServices and other revenue 1,645 1,701 1,837 2,150 2,166 32%\\nTotal revenues 21,454 24,318 23,329 24,927 23,350 9%\\nTotal gross profit 5,382 5,777 4,511 4,533 4,178 -22%\\nTotal GAAP gross margin 25.1% 23.8% 19.3% 18.2% 17.9% -719 bp\\nOperating expenses 1,694 1,876 1,847 2,134 2,414 43%\\nIncome from operations 3,688 3,901 2,664 2,399 1,764 -52%\\nOperating margin 17.2% 16.0% 11.4% 9.6% 7.6% -964 bp\\nAdjusted EBITDA 4,968 5,404 4,267 4,653 3,758 -24%\\nAdjusted EBITDA margin 23.2% 22.2% 18.3% 18.7% 16.1% -706 bp\\nNet income attributable to common stockholders (GAAP) 3,292 3,687 2,513 2,703 1,853 -44%\\nNet income attributable to common stockholders (non- GAAP) 3,654 4,106 2,931 3,148 2,318 -37%\\nEPS attributable to common stockholders, diluted (GAAP) 0.95 1.07 0.73 0.78 0.53 -44%\\nEPS attributable to common stockholders, diluted (non- GAAP) 1.05 1.19 0.85 0.91 0.66 -37%\\nNet cash provided by operating activities 5,100 3,278 2,513 3,065 3,308 -35%\\nCapital expenditures (1,803) (1,858) (2,072) (2,060) (2,460) 36%\\nFree cash flow 3,297 1,420 441 1,005 848 -74%\\nCash, cash equivalents and investments 21,107 22,185 22,402 23,075 26,077 24%\\n4', start_char_idx=None, end_char_idx=None, text_template='{metadata_str}\\n\\n{content}', metadata_template='{key}: {value}', metadata_seperator='\\n'),\n",
       " Document(id_='279d1657-fa6a-4ca0-9896-03fd00f087bc', embedding=None, metadata={'page_label': '5', 'file_name': 'TSLA-Q3-2023-Update-3.pdf', 'file_path': 'data\\\\TSLA-Q3-2023-Update-3.pdf', 'file_type': 'application/pdf', 'file_size': 3455728, 'creation_date': '2024-01-21', 'last_modified_date': '2024-01-21', 'last_accessed_date': '2024-01-21'}, excluded_embed_metadata_keys=['file_name', 'file_type', 'file_size', 'creation_date', 'last_modified_date', 'last_accessed_date'], excluded_llm_metadata_keys=['file_name', 'file_type', 'file_size', 'creation_date', 'last_modified_date', 'last_accessed_date'], relationships={}, hash='63633f338ed8e95ee9cb5e13b025cbec772709aeced7690cee199ec60879d7ca', text='F I N A N C I A L S U M M A R Y\\n5Revenue Total revenue grew 9% YoY in Q3 to $23.4B. YoY, revenue was impacted by the following items:\\n+ growth in vehicle deliveries\\n+ growth in other parts of the business\\n-reduced average selling price (ASP) YoY (excluding FX impact)\\n-negative FX impact of $0.4B1\\nProfitability Our operating income decreased YoY to $1.8B in Q3, resulting in a 7.6% operating margin. YoY, operating income was \\nprimarily impacted by the following items:\\n-reduced ASP due to pricing and mix\\n-increase in operating expenses driven by Cybertruck, AI and other R&D projects\\n-cost of production ramp and idle cost related to factory upgrades\\n-negative FX impact\\n+ growth in vehicle deliveries (despite the margin headwind from underutilization from new factories)\\n+ lower cost per vehicle and IRA credit benefit\\n+ gross profit growth in Energy Generation and Storage as well as Services and Other\\n+ growth in regulatory credit sales\\nCash Quarter -end cash, cash equivalents and investments increased sequentially by $3.0B to $26.1B in Q3, driven by financing \\nactivities of $2.3B and free cash flow of $0.8B.\\n(1) Impact is calculated on a constant currency basis. Actuals are compared against current results converted into USD using aver ageexchange rates from Q3’22.', start_char_idx=None, end_char_idx=None, text_template='{metadata_str}\\n\\n{content}', metadata_template='{key}: {value}', metadata_seperator='\\n'),\n",
       " Document(id_='fa9af38a-85cb-4d2f-8f26-23b6bbef76c4', embedding=None, metadata={'page_label': '6', 'file_name': 'TSLA-Q3-2023-Update-3.pdf', 'file_path': 'data\\\\TSLA-Q3-2023-Update-3.pdf', 'file_type': 'application/pdf', 'file_size': 3455728, 'creation_date': '2024-01-21', 'last_modified_date': '2024-01-21', 'last_accessed_date': '2024-01-21'}, excluded_embed_metadata_keys=['file_name', 'file_type', 'file_size', 'creation_date', 'last_modified_date', 'last_accessed_date'], excluded_llm_metadata_keys=['file_name', 'file_type', 'file_size', 'creation_date', 'last_modified_date', 'last_accessed_date'], relationships={}, hash='a54d597ae8ceca67470f5b543087d2232a80717929f52d25c43c11de72696cb9', text='Q3-2022 Q4-2022 Q1-2023 Q2-2023 Q3-2023 YoY\\nModel S/X production 19,935 20,613 19,437 19,489 13,688 -31%\\nModel 3/Y production 345,988 419,088 421,371 460,211 416,800 20%\\nTotal production 365,923 439,701 440,808 479,700 430,488 18%\\nModel S/X deliveries 18,672 17,147 10,695 19,225 15,985 -14%\\nModel 3/Y deliveries 325,158 388,131 412,180 446,915 419,074 29%\\nTotal deliveries 343,830 405,278 422,875 466,140 435,059 27%\\nof which subject to operating lease accounting 11,004 15,184 22,357 21,883 17,423 58%\\nTotal end of quarter operating lease vehicle count 135,054 140,667 153,988 168,058 176,231 30%\\nGlobal vehicle inventory (days of supply )(1)8 13 15 16 16 100%\\nSolar deployed (MW) 94 100 67 66 49 -48%\\nStorage deployed (MWh) 2,100 2,462 3,889 3,653 3,980 90%\\nTesla locations(2)903 963 1,000 1,068 1,129 25%\\nMobile service fleet 1,532 1,584 1,692 1,769 1,846 20%\\nSupercharger stations 4,283 4,678 4,947 5,265 5,595 31%\\nSupercharger connectors 38,883 42,419 45,169 48,082 51,105 31%\\n(1)Days of supply is calculated by dividing new car ending inventory by the relevant quarter’s deliveries and using 75 trading days (aligned with Automotive News definition).\\n(2)Starting in Q1 -2023, we revised our methodology for reporting Tesla’s physical footprint. This count now includes all sales, ser vice, delivery and body shop locations globally. O P E R A T I O N A L S U M MA R Y\\n(Unaudited)\\n6', start_char_idx=None, end_char_idx=None, text_template='{metadata_str}\\n\\n{content}', metadata_template='{key}: {value}', metadata_seperator='\\n'),\n",
       " Document(id_='b4c4cb3d-0fa5-4b1f-8605-70205d24d2b2', embedding=None, metadata={'page_label': '7', 'file_name': 'TSLA-Q3-2023-Update-3.pdf', 'file_path': 'data\\\\TSLA-Q3-2023-Update-3.pdf', 'file_type': 'application/pdf', 'file_size': 3455728, 'creation_date': '2024-01-21', 'last_modified_date': '2024-01-21', 'last_accessed_date': '2024-01-21'}, excluded_embed_metadata_keys=['file_name', 'file_type', 'file_size', 'creation_date', 'last_modified_date', 'last_accessed_date'], excluded_llm_metadata_keys=['file_name', 'file_type', 'file_size', 'creation_date', 'last_modified_date', 'last_accessed_date'], relationships={}, hash='e17367625863918738505cc06d2db51a7d290bc9c4aa0e1d606c4ff1d1451bda', text='V E H I C L E C A P A C I T Y\\nCurrent Installed Annual Vehicle Capacity\\nRegion Model Capacity Status\\nCalifornia Model S / Model X 100,000 Production\\nModel 3 / Model Y 550,000 Production\\nShanghai Model 3 / Model Y >950,000 Production\\nBerlin Model Y 375,000 Production\\nTexas Model Y >250,000 Production\\nCybertruck >125,000 Pilot production\\nNevada Tesla Semi - Pilot production\\nVarious Next Gen Platform - In development\\nTBD Roadster - In development\\nInstalled capacity ≠current production rate and there may be limitations discovered as production rates \\napproach capacity. Production rates depend on a variety of factors, including equipment uptime, \\ncomponent supply, downtime related to factory upgrades, regulatory considerations and other factors.\\nMarket share of Tesla vehicles by region (TTM)\\nSource: Tesla estimates based on latest available data from ACEA; Autonews.com; CAAM – light-\\nduty vehicles only\\nTTM = Trailing twelve months7\\nDuring the quarter we brought down several production lines for upgrades at \\nvarious factories, which led to a sequential decline in production volumes. We made \\nfurther progress smoothing out the delivery rate across the quarter, with September \\naccounting for ~40% of Q3 deliveries this year, compared to September accounting \\nfor ~65% of Q3 deliveries in 2022.\\nUS: California, Nevada and Texas\\nAt Gigafactory Texas, we began pilot production of the Cybertruck, which remains \\non track for initial deliveries this year. We are expecting the Model Y production rate \\nin Texas to grow very gradually from its current level as we ramp additional supply \\nchain needs in a cost -efficient manner. Production of our higher density 4680 cell is \\nprogressing as planned, and we continue building capacity for cathode production \\nand lithium refining in the U.S.\\nChina: Shanghai\\nOther than scheduled downtime in Q3, our Shanghai factory has been successfully \\nrunning near full capacity for several quarters, and we do not expect a meaningful \\nincrease in weekly production run rate. Giga Shanghai remains our main export hub.\\nEurope: Berlin -Brandenburg\\nModel Y remained the best -selling vehicle of any kind in Europe year -to-date (based \\non the latest available data as of August). Similar to Texas, further production ramp \\nof Model Y will be gradual.0%1%2%3%4%US/Canada Europe China', start_char_idx=None, end_char_idx=None, text_template='{metadata_str}\\n\\n{content}', metadata_template='{key}: {value}', metadata_seperator='\\n'),\n",
       " Document(id_='82cf0212-4533-4bdb-8a79-a379299d3bee', embedding=None, metadata={'page_label': '8', 'file_name': 'TSLA-Q3-2023-Update-3.pdf', 'file_path': 'data\\\\TSLA-Q3-2023-Update-3.pdf', 'file_type': 'application/pdf', 'file_size': 3455728, 'creation_date': '2024-01-21', 'last_modified_date': '2024-01-21', 'last_accessed_date': '2024-01-21'}, excluded_embed_metadata_keys=['file_name', 'file_type', 'file_size', 'creation_date', 'last_modified_date', 'last_accessed_date'], excluded_llm_metadata_keys=['file_name', 'file_type', 'file_size', 'creation_date', 'last_modified_date', 'last_accessed_date'], relationships={}, hash='b9e3d8c9ba1a88f322c9cd8f208de1c634a506f61d3387a7103faee80b482c97', text=\"Cost of goods sold per vehicleC O R E   T E C H N O L O G Y\\nCumulative miles driven with FSD Beta (millions)\\n8\\nArtificial Intelligence Software and Hardware\\nSoftware that safely performs tasks in the real world is the key focus of our AI \\ndevelopment efforts. We have commissioned one of the world's largest \\nsupercomputers to accelerate the pace of our AI development, with compute capacity \\nmore than doubling compared to Q2. Our large installed base of vehicles continues to generate anonymized video and other data used to develop our FSD Capability features.\\nVehicle and Other Software\\nAll Tesla rentals through Hertz in the U.S. and Canada now allow Tesla app access, allowing renters to use keyless lock/unlock via phone key, remotely precondition the cabin, track charge status and more. Customers who already have a Tesla Profile will have their settings and preferences seamlessly applied, making the rental car feel like their own. The in- app service experience was also redesigned to allow customers to \\nschedule service, access their loaner, track service progress, pay and manage drop -\\noff/pickup. Prospective customers can similarly schedule, locate and test drive a \\ndemo vehicle.\\nBattery, Powertrain & Manufacturing\\nDespite macroeconomic headwinds, our planned factory shutdowns in Q3 and \\nongoing ramp at new factories, our average vehicle cost was ~$37,500, and we continue to work to reduce the cost further. For very heavy vehicles, a high voltage powertrain architecture brings notable cost savings, which is why Cybertruck will \\nadopt an 800 -volt architecture.0100200300400500600\\n$36,000$36,500$37,000$37,500$38,000$38,500$39,000$39,500$40,000\\nQ3 2022 Q4 2022 Q1 2023 Q2 2023 Q3 2023\", start_char_idx=None, end_char_idx=None, text_template='{metadata_str}\\n\\n{content}', metadata_template='{key}: {value}', metadata_seperator='\\n'),\n",
       " Document(id_='57dd1f15-7fe7-477d-8ba5-7929d9a384aa', embedding=None, metadata={'page_label': '9', 'file_name': 'TSLA-Q3-2023-Update-3.pdf', 'file_path': 'data\\\\TSLA-Q3-2023-Update-3.pdf', 'file_type': 'application/pdf', 'file_size': 3455728, 'creation_date': '2024-01-21', 'last_modified_date': '2024-01-21', 'last_accessed_date': '2024-01-21'}, excluded_embed_metadata_keys=['file_name', 'file_type', 'file_size', 'creation_date', 'last_modified_date', 'last_accessed_date'], excluded_llm_metadata_keys=['file_name', 'file_type', 'file_size', 'creation_date', 'last_modified_date', 'last_accessed_date'], relationships={}, hash='e55bc5655afef1d3fceb5098841834ff8d76b8b065b091495cdc913a454494b0', text='O T H E R   H I G H L I G H T S\\n9Services & Other gross profit ($M)\\nEnergy Storage\\nEnergy storage deployments increased by 90% YoY in Q3 to 4.0 GWh, our highest \\nquarterly deployment ever. Continued growth in deployments was driven by the ongoing ramp of our Megafactory in Lathrop, CA toward full capacity of 40 GWh with the phase two expansion. Production rate improved further sequentially in Q3.\\nSolar\\nSolar deployments declined on a sequential and YoY basis to 49 MW. Sustained high interest rates and the end of net metering in California have created downward pressure on solar demand.\\nServices and Other business\\nAs our global fleet size grows, our Services and Other business continues to grow \\nsuccessfully, with Supercharging, insurance and body shop & part sales being the core \\ndrivers of profit growth YoY. Pay -per-use Supercharging remains a profitable business \\nfor the company, even as we scale capital expenditures. Our team is focused on materially expanding Supercharging capacity and further improving capacity management in anticipation of other OEMs joining our network.01234\\n (200) (150) (100) (50)— 50 100 150 200Energy Storage deployments (GWh)', start_char_idx=None, end_char_idx=None, text_template='{metadata_str}\\n\\n{content}', metadata_template='{key}: {value}', metadata_seperator='\\n'),\n",
       " Document(id_='47991b66-51d5-459a-bc28-2c5b3cccc129', embedding=None, metadata={'page_label': '10', 'file_name': 'TSLA-Q3-2023-Update-3.pdf', 'file_path': 'data\\\\TSLA-Q3-2023-Update-3.pdf', 'file_type': 'application/pdf', 'file_size': 3455728, 'creation_date': '2024-01-21', 'last_modified_date': '2024-01-21', 'last_accessed_date': '2024-01-21'}, excluded_embed_metadata_keys=['file_name', 'file_type', 'file_size', 'creation_date', 'last_modified_date', 'last_accessed_date'], excluded_llm_metadata_keys=['file_name', 'file_type', 'file_size', 'creation_date', 'last_modified_date', 'last_accessed_date'], relationships={}, hash='3163cc33f0bb9e3857fb28b9414b323673735697dcf881abe6461a61e45233ce', text='O U T L O O K\\n10Volume We are planning to grow production as quickly as possible in alignment with the 50% CAGR target we began guiding to \\nin early 2021. In some years we may grow faster and some we may grow slower, depending on a number of factors. For \\n2023, we expect to remain ahead of the long -term 50% CAGR with around 1.8 million vehicles for the year.\\nCash We have ample liquidity to fund our product roadmap, long -term capacity expansion plans and other expenses. \\nFurthermore, we will manage the business such that we maintain a strong balance sheet during this uncertain period.\\nProfit While we continue to execute on innovations to reduce the cost of manufacturing and operations, over time, we expect \\nour hardware -related profits to be accompanied by an acceleration of AI, software and fleet -based profits. \\nProduct Cybertruck deliveries remain on track for later this year. In addition, we continue to make progress on our next \\ngeneration platform. ', start_char_idx=None, end_char_idx=None, text_template='{metadata_str}\\n\\n{content}', metadata_template='{key}: {value}', metadata_seperator='\\n'),\n",
       " Document(id_='5af28b4e-3c86-47d7-94b0-81ab616ad4a4', embedding=None, metadata={'page_label': '11', 'file_name': 'TSLA-Q3-2023-Update-3.pdf', 'file_path': 'data\\\\TSLA-Q3-2023-Update-3.pdf', 'file_type': 'application/pdf', 'file_size': 3455728, 'creation_date': '2024-01-21', 'last_modified_date': '2024-01-21', 'last_accessed_date': '2024-01-21'}, excluded_embed_metadata_keys=['file_name', 'file_type', 'file_size', 'creation_date', 'last_modified_date', 'last_accessed_date'], excluded_llm_metadata_keys=['file_name', 'file_type', 'file_size', 'creation_date', 'last_modified_date', 'last_accessed_date'], relationships={}, hash='88858efd8ad369c0ecda16d66b114cc4007f73933e5b46ba79b241bdd749f075', text='P H O T O S   &   C H A R T S\\n', start_char_idx=None, end_char_idx=None, text_template='{metadata_str}\\n\\n{content}', metadata_template='{key}: {value}', metadata_seperator='\\n'),\n",
       " Document(id_='4c5a98a0-0695-40e9-8604-54eb79486b0f', embedding=None, metadata={'page_label': '12', 'file_name': 'TSLA-Q3-2023-Update-3.pdf', 'file_path': 'data\\\\TSLA-Q3-2023-Update-3.pdf', 'file_type': 'application/pdf', 'file_size': 3455728, 'creation_date': '2024-01-21', 'last_modified_date': '2024-01-21', 'last_accessed_date': '2024-01-21'}, excluded_embed_metadata_keys=['file_name', 'file_type', 'file_size', 'creation_date', 'last_modified_date', 'last_accessed_date'], excluded_llm_metadata_keys=['file_name', 'file_type', 'file_size', 'creation_date', 'last_modified_date', 'last_accessed_date'], relationships={}, hash='e9eebfb771da658d046b5148610479bcd8926bc79f3c2bbad6d956cc35a2dc83', text='M O D E L   Y   S T A R T I N G   P R I C E   I N C L U S I V E   O F   N A T I O N A L   A N D   S T A T E   L E V E L   S U B S I D I E S* \\n12 *Not all consumers are eligible for all subsidies. Exclusive of local and utility subsidies. Please see additional details at https:/ /www.tesla.com/support/incentives.\\n', start_char_idx=None, end_char_idx=None, text_template='{metadata_str}\\n\\n{content}', metadata_template='{key}: {value}', metadata_seperator='\\n'),\n",
       " Document(id_='b3ca74b3-c83c-4c5a-8efa-fcd9db5467c2', embedding=None, metadata={'page_label': '13', 'file_name': 'TSLA-Q3-2023-Update-3.pdf', 'file_path': 'data\\\\TSLA-Q3-2023-Update-3.pdf', 'file_type': 'application/pdf', 'file_size': 3455728, 'creation_date': '2024-01-21', 'last_modified_date': '2024-01-21', 'last_accessed_date': '2024-01-21'}, excluded_embed_metadata_keys=['file_name', 'file_type', 'file_size', 'creation_date', 'last_modified_date', 'last_accessed_date'], excluded_llm_metadata_keys=['file_name', 'file_type', 'file_size', 'creation_date', 'last_modified_date', 'last_accessed_date'], relationships={}, hash='fec8c3b9ee2ee491561cda84f8261b70502182b0e113155b39e773cf7cc9d155', text='C Y B E R T R U C K   D E L I V E R I E S   B E G I N   I N   N O V E M B E R   2 0 2 3 \\n13', start_char_idx=None, end_char_idx=None, text_template='{metadata_str}\\n\\n{content}', metadata_template='{key}: {value}', metadata_seperator='\\n'),\n",
       " Document(id_='a3c4d9f4-838b-4c1c-95f2-dec2aa032300', embedding=None, metadata={'page_label': '14', 'file_name': 'TSLA-Q3-2023-Update-3.pdf', 'file_path': 'data\\\\TSLA-Q3-2023-Update-3.pdf', 'file_type': 'application/pdf', 'file_size': 3455728, 'creation_date': '2024-01-21', 'last_modified_date': '2024-01-21', 'last_accessed_date': '2024-01-21'}, excluded_embed_metadata_keys=['file_name', 'file_type', 'file_size', 'creation_date', 'last_modified_date', 'last_accessed_date'], excluded_llm_metadata_keys=['file_name', 'file_type', 'file_size', 'creation_date', 'last_modified_date', 'last_accessed_date'], relationships={}, hash='f3d72287d86393595174076894466d64b4adbbfa4027622d2b4c17a2a967b259', text='M E G A P A C K   F A C T O R Y   I N   L A T H R O P ,   C A L I F O R N I A \\n14', start_char_idx=None, end_char_idx=None, text_template='{metadata_str}\\n\\n{content}', metadata_template='{key}: {value}', metadata_seperator='\\n'),\n",
       " Document(id_='8c46e2cc-dd29-4598-a77a-39da2481f63c', embedding=None, metadata={'page_label': '15', 'file_name': 'TSLA-Q3-2023-Update-3.pdf', 'file_path': 'data\\\\TSLA-Q3-2023-Update-3.pdf', 'file_type': 'application/pdf', 'file_size': 3455728, 'creation_date': '2024-01-21', 'last_modified_date': '2024-01-21', 'last_accessed_date': '2024-01-21'}, excluded_embed_metadata_keys=['file_name', 'file_type', 'file_size', 'creation_date', 'last_modified_date', 'last_accessed_date'], excluded_llm_metadata_keys=['file_name', 'file_type', 'file_size', 'creation_date', 'last_modified_date', 'last_accessed_date'], relationships={}, hash='f990c675569a42ec5c95b29ee87ab45632afc3659a336ff260793c81cadc874d', text='G I G A F A C T O R Y   S H A N G H A I   - O N E   M I L L I O N T H   M O D E L   Y   P R O D U C E D \\n15', start_char_idx=None, end_char_idx=None, text_template='{metadata_str}\\n\\n{content}', metadata_template='{key}: {value}', metadata_seperator='\\n'),\n",
       " Document(id_='045b6cb2-3cb5-4fb9-a610-16ab245ff0f9', embedding=None, metadata={'page_label': '16', 'file_name': 'TSLA-Q3-2023-Update-3.pdf', 'file_path': 'data\\\\TSLA-Q3-2023-Update-3.pdf', 'file_type': 'application/pdf', 'file_size': 3455728, 'creation_date': '2024-01-21', 'last_modified_date': '2024-01-21', 'last_accessed_date': '2024-01-21'}, excluded_embed_metadata_keys=['file_name', 'file_type', 'file_size', 'creation_date', 'last_modified_date', 'last_accessed_date'], excluded_llm_metadata_keys=['file_name', 'file_type', 'file_size', 'creation_date', 'last_modified_date', 'last_accessed_date'], relationships={}, hash='208b26cc127c8f8333c2b83791a633d5aa1c5a897806286aef07d61aa65d7d80', text='Vehicle Deliveries \\n(millions of units)KEYM E T R I C S Q U A R T E R L Y\\n(Unaudited)\\nOperating Cash Flow ($B)\\nFree Cash Flow ($B)Net Income ($B)\\nAdjusted EBITDA ($B)\\n160.00.10.20.30.40.5\\n4Q-2020\\n1Q-2021\\n2Q-2021\\n3Q-2021\\n4Q-2021\\n1Q-2022\\n2Q-2022\\n3Q-2022\\n4Q-2022\\n1Q-2023\\n2Q-2023\\n3Q-20230123456\\n4Q-2020\\n1Q-2021\\n2Q-2021\\n3Q-2021\\n4Q-2021\\n1Q-2022\\n2Q-2022\\n3Q-2022\\n4Q-2022\\n1Q-2023\\n2Q-2023\\n3Q-20230123456\\n4Q-2020\\n1Q-2021\\n2Q-2021\\n3Q-2021\\n4Q-2021\\n1Q-2022\\n2Q-2022\\n3Q-2022\\n4Q-2022\\n1Q-2023\\n2Q-2023\\n3Q-2023', start_char_idx=None, end_char_idx=None, text_template='{metadata_str}\\n\\n{content}', metadata_template='{key}: {value}', metadata_seperator='\\n'),\n",
       " Document(id_='59d17a20-3d5d-4742-b0e4-e2a30b7a8329', embedding=None, metadata={'page_label': '17', 'file_name': 'TSLA-Q3-2023-Update-3.pdf', 'file_path': 'data\\\\TSLA-Q3-2023-Update-3.pdf', 'file_type': 'application/pdf', 'file_size': 3455728, 'creation_date': '2024-01-21', 'last_modified_date': '2024-01-21', 'last_accessed_date': '2024-01-21'}, excluded_embed_metadata_keys=['file_name', 'file_type', 'file_size', 'creation_date', 'last_modified_date', 'last_accessed_date'], excluded_llm_metadata_keys=['file_name', 'file_type', 'file_size', 'creation_date', 'last_modified_date', 'last_accessed_date'], relationships={}, hash='e3aaa1f0b72d241ef67ab9a9e12e6dbb7576aedea1a5144b177cf908275e20f8', text='Operating Cash Flow ($B)\\nFree Cash Flow ($B)\\nKEYM E T R I C S T R A I L I N G 1 2M O N T H S ( T T M )\\n(Unaudited)\\nNet Income ($B)\\nAdjusted EBITDA ($B)\\n17Vehicle Deliveries \\n(millions of units)0.00.20.40.60.81.01.21.41.61.82.0\\n4Q-2020\\n1Q-2021\\n2Q-2021\\n3Q-2021\\n4Q-2021\\n1Q-2022\\n2Q-2022\\n3Q-2022\\n4Q-2022\\n1Q-2023\\n2Q-2023\\n3Q-202302468101214161820\\n4Q-2020\\n1Q-2021\\n2Q-2021\\n3Q-2021\\n4Q-2021\\n1Q-2022\\n2Q-2022\\n3Q-2022\\n4Q-2022\\n1Q-2023\\n2Q-2023\\n3Q-202302468101214161820\\n4Q-2020\\n1Q-2021\\n2Q-2021\\n3Q-2021\\n4Q-2021\\n1Q-2022\\n2Q-2022\\n3Q-2022\\n4Q-2022\\n1Q-2023\\n2Q-2023\\n3Q-2023', start_char_idx=None, end_char_idx=None, text_template='{metadata_str}\\n\\n{content}', metadata_template='{key}: {value}', metadata_seperator='\\n'),\n",
       " Document(id_='78672833-7a1c-45c5-98c6-007195f185c5', embedding=None, metadata={'page_label': '18', 'file_name': 'TSLA-Q3-2023-Update-3.pdf', 'file_path': 'data\\\\TSLA-Q3-2023-Update-3.pdf', 'file_type': 'application/pdf', 'file_size': 3455728, 'creation_date': '2024-01-21', 'last_modified_date': '2024-01-21', 'last_accessed_date': '2024-01-21'}, excluded_embed_metadata_keys=['file_name', 'file_type', 'file_size', 'creation_date', 'last_modified_date', 'last_accessed_date'], excluded_llm_metadata_keys=['file_name', 'file_type', 'file_size', 'creation_date', 'last_modified_date', 'last_accessed_date'], relationships={}, hash='e60f6983e4c6a336fbe2bc068e79846921516726edf74dfc37983893a945425d', text='KEYM E T R I C S T R A I L I N G 1 2M O N T H S ( T T M )\\n(Unaudited)\\n18YoY Revenue Growth Operating Margin\\nSource: OEM financial disclosures, Bloomberg\\nAuto Industry includes: Tesla, BMW, Mercedes -Benz, Ford, GM, Honda, Hyundai, Nissan, Toyota and VW. Stellantis is excluded given limited historical disclosures due to the recent merger between FCA and PSA.\\nAuto Industry operating margin is calculated by dividing the sum of USD equivalent operating profits for the entire industry by the USD equivalent revenues for respective periods.-20%-10%0%10%20%30%40%50%60%70%80%90%\\nQ3-2019\\nQ4-2019\\nQ1-2020\\nQ2-2020\\nQ3-2020\\nQ4-2020\\nQ1-2021\\nQ2-2021\\nQ3-2021\\nQ4-2021\\nQ1-2022\\nQ2-2022\\nQ3-2022\\nQ4-2022\\nQ1-2023\\nQ2-2023\\nQ3-2023\\nTesla Auto Industry S&P 500-4%-2%0%2%4%6%8%10%12%14%16%18%\\nQ3-2019\\nQ4-2019\\nQ1-2020\\nQ2-2020\\nQ3-2020\\nQ4-2020\\nQ1-2021\\nQ2-2021\\nQ3-2021\\nQ4-2021\\nQ1-2022\\nQ2-2022\\nQ3-2022\\nQ4-2022\\nQ1-2023\\nQ2-2023\\nQ3-2023\\nTesla Auto Industry S&P 500', start_char_idx=None, end_char_idx=None, text_template='{metadata_str}\\n\\n{content}', metadata_template='{key}: {value}', metadata_seperator='\\n'),\n",
       " Document(id_='e0e1439c-c9b8-4c9d-bd9b-8bc0a287b55e', embedding=None, metadata={'page_label': '19', 'file_name': 'TSLA-Q3-2023-Update-3.pdf', 'file_path': 'data\\\\TSLA-Q3-2023-Update-3.pdf', 'file_type': 'application/pdf', 'file_size': 3455728, 'creation_date': '2024-01-21', 'last_modified_date': '2024-01-21', 'last_accessed_date': '2024-01-21'}, excluded_embed_metadata_keys=['file_name', 'file_type', 'file_size', 'creation_date', 'last_modified_date', 'last_accessed_date'], excluded_llm_metadata_keys=['file_name', 'file_type', 'file_size', 'creation_date', 'last_modified_date', 'last_accessed_date'], relationships={}, hash='59d86a1f04e56a0fdebf50441fb2b67352bd19a8412ce531525508eba465ab9d', text='F I N A N C I A L     S T A T E M E N T S\\n', start_char_idx=None, end_char_idx=None, text_template='{metadata_str}\\n\\n{content}', metadata_template='{key}: {value}', metadata_seperator='\\n'),\n",
       " Document(id_='1d659b3f-0703-4c2e-a204-e77567c2131f', embedding=None, metadata={'page_label': '20', 'file_name': 'TSLA-Q3-2023-Update-3.pdf', 'file_path': 'data\\\\TSLA-Q3-2023-Update-3.pdf', 'file_type': 'application/pdf', 'file_size': 3455728, 'creation_date': '2024-01-21', 'last_modified_date': '2024-01-21', 'last_accessed_date': '2024-01-21'}, excluded_embed_metadata_keys=['file_name', 'file_type', 'file_size', 'creation_date', 'last_modified_date', 'last_accessed_date'], excluded_llm_metadata_keys=['file_name', 'file_type', 'file_size', 'creation_date', 'last_modified_date', 'last_accessed_date'], relationships={}, hash='2e6fd966d02b83b344010ecf8f4d810a51636c2371c5cb8f2300c5f5d89fab02', text='In millions of USD or shares as applicable, except per share data Q3-2022 Q4-2022 Q1-2023 Q2-2023 Q3-2023\\nREVENUES\\nAutomotive sales 17,785 20,241 18,878 20,419 18,582\\nAutomotive regulatory credits 286 467 521 282 554\\nAutomotive leasing 621 599 564 567 489\\nTotal automotive revenues 18,692 21,307 19,963 21,268 19,625\\nEnergy generation and storage 1,117 1,310 1,529 1,509 1,559\\nServices and other 1,645 1,701 1,837 2,150 2,166\\nTotal revenues 21,454 24,318 23,329 24,927 23,350\\nCOST OF REVENUES\\nAutomotive sales 13,099 15,433 15,422 16,841 15,656\\nAutomotive leasing 381 352 333 338 301\\nTotal automotive cost of revenues 13,480 15,785 15,755 17,179 15,957\\nEnergy generation and storage 1,013 1,151 1,361 1,231 1,178\\nServices and other 1,579 1,605 1,702 1,984 2,037\\nTotal cost of revenues 16,072 18,541 18,818 20,394 19,172\\nGross profit 5,382 5,777 4,511 4,533 4,178\\nOPERATING EXPENSES\\nResearch and development 733 810 771 943 1,161\\nSelling, general and administrative 961 1,032 1,076 1,191 1,253\\nRestructuring and other — 34 — — —\\nTotal operating expenses 1,694 1,876 1,847 2,134 2,414\\nINCOME FROM OPERATIONS 3,688 3,901 2,664 2,399 1,764\\nInterest income 86 157 213 238 282\\nInterest expense (53) (33) (29) (28) (38)\\nOther (expense) income, net (85) (42) (48) 328 37\\nINCOME BEFORE INCOME TAXES 3,636 3,983 2,800 2,937 2,045\\nProvision for income taxes 305 276 261 323 167\\nNET INCOME 3,331 3,707 2,539 2,614 1,878\\nNet income (loss) attributable to noncontrolling interests and redeemable noncontrolling interests in \\nsubsidiaries39 20 26 (89) 25\\nNET INCOME ATTRIBUTABLE TO COMMON STOCKHOLDERS 3,292 3,687 2,513 2,703 1,853\\nNet income per share of common stock attributable to common stockholders\\nBasic $        1.05 $        1.18 $        0.80 $        0.85 $        0.58\\nDiluted $        0.95 $        1.07 $        0.73 $        0.78 $        0.53\\nWeighted average shares used in computing net income per share of common stock\\nBasic 3,146 3,160 3,166 3,171 3,176\\nDiluted 3,468 3,471 3,468 3,478 3,493\\nS T A T E M E N T   O F   O P E R A T I O N S\\n(Unaudited)\\n20', start_char_idx=None, end_char_idx=None, text_template='{metadata_str}\\n\\n{content}', metadata_template='{key}: {value}', metadata_seperator='\\n'),\n",
       " Document(id_='84ec54cd-497a-4deb-b332-55099d350c09', embedding=None, metadata={'page_label': '21', 'file_name': 'TSLA-Q3-2023-Update-3.pdf', 'file_path': 'data\\\\TSLA-Q3-2023-Update-3.pdf', 'file_type': 'application/pdf', 'file_size': 3455728, 'creation_date': '2024-01-21', 'last_modified_date': '2024-01-21', 'last_accessed_date': '2024-01-21'}, excluded_embed_metadata_keys=['file_name', 'file_type', 'file_size', 'creation_date', 'last_modified_date', 'last_accessed_date'], excluded_llm_metadata_keys=['file_name', 'file_type', 'file_size', 'creation_date', 'last_modified_date', 'last_accessed_date'], relationships={}, hash='8eebf0d466e56b21f6811c3533affb6f3bf6eab9d6e735ab3438841960fdf3b0', text=\"B A L A N C E S H E ET\\n(Unaudited)\\nIn millions of USD 30-Sep-22 31-Dec-22 31-Mar-23 30-Jun-23 30-Sep-23\\nASSETS\\nCurrent assets\\nCash, cash equivalents and investments 21,107 22,185 22,402 23,075 26,077 \\nAccounts receivable, net 2,192 2,952 2,993 3,447 2,520 \\nInventory 10,327 12,839 14,375 14,356 13,721 \\nPrepaid expenses and other current assets 2,364 2,941 3,227 2,997 2,708 \\nTotal current assets 35,990 40,917 42,997 43,875 45,026 \\nOperating lease vehicles, net 4,824 5,035 5,473 5,935 6,119 \\nSolar energy systems, net 5,562 5,489 5,427 5,365 5,293 \\nProperty, plant and equipment, net 21,926 23,548 24,969 26,389 27,744 \\nOperating lease right -of-use assets 2,251 2,563 2,800 3,352 3,637 \\nDigital assets, net 218 184 184 184 184 \\nGoodwill and intangible assets, net 419 409 399 465 441 \\nOther non -current assets 3,236 4,193 4,584 5,026 5,497 \\nTotal assets 74,426 82,338 86,833 90,591 93,941 \\nLIABILITIES AND EQUITY\\nCurrent liabilities\\nAccounts payable 13,897 15,255 15,904 15,273 13,937 \\nAccrued liabilities and other 6,246 7,142 7,321 7,658 7,636 \\nDeferred revenue 1,928 1,747 1,750 2,176 2,206 \\nCustomer deposits 1,083 1,063 1,057 1,026 894 \\nCurrent portion of debt and finance leases (1) 1,457 1,502 1,404 1,459 1,967 \\nTotal current liabilities 24,611 26,709 27,436 27,592 26,640 \\nDebt and finance leases, net of current portion (1) 2,096 1,597 1,272 872 2,426 \\nDeferred revenue, net of current portion 2,265 2,804 2,911 3,021 3,059 \\nOther long -term liabilities 4,330 5,330 5,979 6,924 7,321 \\nTotal liabilities 33,302 36,440 37,598 38,409 39,446 \\nRedeemable noncontrolling interests in subsidiaries 421 409 407 288 277 \\nTotal stockholders' equity 39,851 44,704 48,054 51,130 53,466 \\nNoncontrolling interests in subsidiaries 852 785 774 764 752 \\nTotal liabilities and equity 74,426 82,338 86,833 90,591 93,941 \\n(1) Breakdown of our debt is as follows:\\nVehicle and energy product financing (non -recourse) 2,335 2,001 1,708 1,475 3,660 \\nOther non- recourse debt 11 — — — —\\nRecourse debt 51 44 44 44 44 \\nTotal debt excluding vehicle and energy product financing 62 44 44 44 44 \\nDays sales outstanding 9 10 11 12 12 \\nDays payable outstanding 72 72 75 70 70 \\n21\", start_char_idx=None, end_char_idx=None, text_template='{metadata_str}\\n\\n{content}', metadata_template='{key}: {value}', metadata_seperator='\\n'),\n",
       " Document(id_='ec9b4e58-5769-4df2-a489-8433f0e9673a', embedding=None, metadata={'page_label': '22', 'file_name': 'TSLA-Q3-2023-Update-3.pdf', 'file_path': 'data\\\\TSLA-Q3-2023-Update-3.pdf', 'file_type': 'application/pdf', 'file_size': 3455728, 'creation_date': '2024-01-21', 'last_modified_date': '2024-01-21', 'last_accessed_date': '2024-01-21'}, excluded_embed_metadata_keys=['file_name', 'file_type', 'file_size', 'creation_date', 'last_modified_date', 'last_accessed_date'], excluded_llm_metadata_keys=['file_name', 'file_type', 'file_size', 'creation_date', 'last_modified_date', 'last_accessed_date'], relationships={}, hash='e5afdafaaab5f2240553c01c8a451d0c10cc875b6582a2ec11e16fd649fa5418', text='In millions of USD Q3-2022 Q4-2022 Q1-2023 Q2-2023 Q3-2023\\nCASH FLOWS FROM OPERATING ACTIVITIES\\nNet income 3,331 3,707 2,539 2,614 1,878 \\nAdjustments to reconcile net income to net cash provided by operating activities:\\nDepreciation, amortization and impairment 956 989 1,046 1,154 1,235 \\nStock -based compensation 362 419 418 445 465 \\nOther 220 354 40 (47) 145\\nChanges in operating assets and liabilities 231 (2,191) (1,530) (1,101) (415)\\nNet cash provided by operating activities 5,100 3,278 2,513 3,065 3,308 \\nCASH FLOWS FROM INVESTING ACTIVITIES\\nCapital expenditures (1,803) (1,858) (2,072) (2,060) (2,460)\\nPurchases of solar energy systems, net of sales (0) (0) (1) (0) 1 \\nPurchases of investments (991) (4,368) (2,015) (5,075) (6,131)\\nProceeds from maturities of investments 3 19 1,604 3,539 3,816 \\nProceeds from sales of investments — — — 138 —\\nReceipt of government grants — 76 — — —\\nBusiness combinations, net of cash acquired — — — (76) 12\\nNet cash used in investing activities (2,791) (6,131) (2,484) (3,534) (4,762)\\nCASH FLOWS FROM FINANCING ACTIVITIES\\nNet cash flows from other debt activities (133) (162) (127) (124) (140)\\nNet (repayments) borrowings under vehicle and energy product financing (766) (335) (294) (233) 2,194\\nNet cash flows from noncontrolling interests –Solar (42) (65) (43) (34) (45)\\nOther 229 67 231 63 254 \\nNet cash (used in) provided by financing activities (712) (495) (233) (328) 2,263\\nEffect of exchange rate changes on cash and cash equivalents and restricted cash (335) 123 50 (94) (98)\\nNet increase (decrease) in cash and cash equivalents and restricted cash 1,262 (3,225) (154) (891) 711\\nCash and cash equivalents and restricted cash at beginning of period 18,887 20,149 16,924 16,770 15,879 \\nCash and cash equivalents and restricted cash at end of period 20,149 16,924 16,770 15,879 16,590 \\nS T A T E M E N T O F C A S H F L O W S\\n(Unaudited)\\n22', start_char_idx=None, end_char_idx=None, text_template='{metadata_str}\\n\\n{content}', metadata_template='{key}: {value}', metadata_seperator='\\n'),\n",
       " Document(id_='006d9bc1-24d4-4db6-8e9c-c17f6d7bb5f7', embedding=None, metadata={'page_label': '23', 'file_name': 'TSLA-Q3-2023-Update-3.pdf', 'file_path': 'data\\\\TSLA-Q3-2023-Update-3.pdf', 'file_type': 'application/pdf', 'file_size': 3455728, 'creation_date': '2024-01-21', 'last_modified_date': '2024-01-21', 'last_accessed_date': '2024-01-21'}, excluded_embed_metadata_keys=['file_name', 'file_type', 'file_size', 'creation_date', 'last_modified_date', 'last_accessed_date'], excluded_llm_metadata_keys=['file_name', 'file_type', 'file_size', 'creation_date', 'last_modified_date', 'last_accessed_date'], relationships={}, hash='f40337a4da364ff1b01ccc5e2b5a9978b61274de451db25a5903d2078fa8d761', text='In millions of USD or shares as applicable, except per share data Q3-2022 Q4-2022 Q1-2023 Q2-2023 Q3-2023\\nNet income attributable to common stockholders (GAAP) 3,292 3,687 2,513 2,703 1,853 \\nStock -based compensation expense 362 419 418 445 465 \\nNet income attributable to common stockholders (non -GAAP) 3,654 4,106 2,931 3,148 2,318 \\nLess: Buy -out of noncontrolling interest — (35) (5) — 2 \\nLess: Dilutive convertible debt 0 0 0 0 0 \\nNet income used in computing diluted EPS attributable to common stockholders (non -GAAP) 3,654 4,141 2,936 3,148 2,316 \\nEPS attributable to common stockholders, diluted (GAAP) 0.95 1.07 0.73 0.78 0.53\\nStock -based compensation expense per share 0.10 0.12 0.12 0.13 0.13\\nEPS attributable to common stockholders, diluted (non -GAAP) 1.05 1.19 0.85 0.91 0.66\\nShares used in EPS calculation, diluted (GAAP and non -GAAP) 3,468 3,471 3,468 3,478 3,493\\nNet income attributable to common stockholders (GAAP) 3,292 3,687 2,513 2,703 1,853 \\nInterest expense 53 33 29 28 38 \\nProvision for income taxes 305 276 261 323 167 \\nDepreciation, amortization and impairment 956 989 1,046 1,154 1,235 \\nStock -based compensation expense 362 419 418 445 465 \\nAdjusted EBITDA (non -GAAP) 4,968 5,404 4,267 4,653 3,758 \\nTotal revenues 21,454 24,318 23,329 24,927 23,350 \\nAdjusted EBITDA margin (non -GAAP) 23.2% 22.2% 18.3% 18.7% 16.1%\\nR E C O N C I L I A T I O N O F G A A PT O N O N – G A A PF I N A N C I A L I N F O R M A T I O N \\n(Unaudited)\\n23', start_char_idx=None, end_char_idx=None, text_template='{metadata_str}\\n\\n{content}', metadata_template='{key}: {value}', metadata_seperator='\\n'),\n",
       " Document(id_='429d23b0-79b1-4b99-99da-0e475184a6c9', embedding=None, metadata={'page_label': '24', 'file_name': 'TSLA-Q3-2023-Update-3.pdf', 'file_path': 'data\\\\TSLA-Q3-2023-Update-3.pdf', 'file_type': 'application/pdf', 'file_size': 3455728, 'creation_date': '2024-01-21', 'last_modified_date': '2024-01-21', 'last_accessed_date': '2024-01-21'}, excluded_embed_metadata_keys=['file_name', 'file_type', 'file_size', 'creation_date', 'last_modified_date', 'last_accessed_date'], excluded_llm_metadata_keys=['file_name', 'file_type', 'file_size', 'creation_date', 'last_modified_date', 'last_accessed_date'], relationships={}, hash='7aa42a278d45d0326252c701018b804379d33039de37582c5d7f828001c38f72', text='R E C O N C I L I A T I O N O F G A A PT O N O N – G A A PF I N A N C I A L I N F O R M A T I O N \\n(Unaudited)\\nIn millions of USD 4Q-2020 1Q-2021 2Q-2021 3Q-2021 4Q-2021 1Q-2022 2Q-2022 3Q-2022 4Q-2022 1Q-2023 2Q-2023 3Q-2023\\nNet cash provided by operating activities –TTM (GAAP) 5,943 8,024 9,184 9,931 11,497 13,851 14,078 16,031 14,724 13,242 13,956 12,164 \\nCapital expenditures –TTM (3,157) (4,050) (5,009) (5,823) (6,482) (6,901) (7,126) (7,110) (7,158) (7,463) (7,793) (8,450)\\nFree cash flow –TTM (non -GAAP) 2,786 3,974 4,175 4,108 5,015 6,950 6,952 8,921 7,566 5,779 6,163 3,714 \\nIn millions of USD 4Q-2020 1Q-2021 2Q-2021 3Q-2021 4Q-2021 1Q-2022 2Q-2022 3Q-2022 4Q-2022 1Q-2023 2Q-2023 3Q-2023\\nNet income attributable to common stockholders –TTM (GAAP) 721 1,143 2,181 3,468 5,519 8,399 9,516 11,190 12,556 11,751 12,195 10,756 \\nInterest expense –TTM 748 678 583 546 371 333 302 229 191 159 143 128 \\nProvision for income taxes –TTM 292 359 453 490 699 976 1,066 1,148 1,132 1,047 1,165 1,027 \\nDepreciation, amortization and impairment –TTM 2,322 2,390 2,504 2,681 2,911 3,170 3,411 3,606 3,747 3,913 4,145 4,424 \\nStock -based compensation expense –TTM 1,734 2,137 2,264 2,196 2,121 1,925 1,812 1,699 1,560 1,560 1,644 1,747 \\nAdjusted EBITDA –TTM (non -GAAP) 5,817 6,707 7,985 9,381 11,621 14,803 16,107 17,872 19,186 18,430 19,292 18,082 \\nTTM = Trailing twelve monthsIn millions of USD 1Q-2020 2Q-2020 3Q-2020 4Q-2020 1Q-2021 2Q-2021 3Q-2021 4Q-2021 1Q-2022 2Q-2022 3Q-2022 4Q-2022 1Q-2023 2Q-2023 3Q-2023\\nNet cash (used in) provided by operating activities (GAAP) (440) 964 2,400 3,019 1,641 2,124 3,147 4,585 3,995 2,351 5,100 3,278 2,513 3,065 3,308 \\nCapital expenditures (455) (546) (1,005) (1,151) (1,348) (1,505) (1,819) (1,810) (1,767) (1,730) (1,803) (1,858) (2,072) (2,060) (2,460)\\nFree cash flow (non -GAAP) (895) 418 1,395 1,868 293 619 1,328 2,775 2,228 621 3,297 1,420 441 1,005 848 \\nIn millions of USD 1Q-2020 2Q-2020 3Q-2020 4Q-2020 1Q-2021 2Q-2021 3Q-2021 4Q-2021 1Q-2022 2Q-2022 3Q-2022 4Q-2022 1Q-2023 2Q-2023 3Q-2023\\nNet income attributable to common stockholders (GAAP) 16 104 331 270 438 1,142 1,618 2,321 3,318 2,259 3,292 3,687 2,513 2,703 1,853 \\nInterest expense 169 170 163 246 99 75 126 71 61 44 53 33 29 28 38 \\nProvision for income taxes 2 21 186 83 69 115 223 292 346 205 305 276 261 323 167 \\nDepreciation, amortization and impairment 553 567 584 618 621 681 761 848 880 922 956 989 1,046 1,154 1,235 \\nStock -based compensation expense 211 347 543 633 614 474 475 558 418 361 362 419 418 445 465 \\nAdjusted EBITDA (non -GAAP) 951 1,209 1,807 1,850 1,841 2,487 3,203 4,090 5,023 3,791 4,968 5,404 4,267 4,653 3,758 \\n24', start_char_idx=None, end_char_idx=None, text_template='{metadata_str}\\n\\n{content}', metadata_template='{key}: {value}', metadata_seperator='\\n'),\n",
       " Document(id_='e1b927ef-dd6e-4a4f-ba78-2b02b8591d00', embedding=None, metadata={'page_label': '25', 'file_name': 'TSLA-Q3-2023-Update-3.pdf', 'file_path': 'data\\\\TSLA-Q3-2023-Update-3.pdf', 'file_type': 'application/pdf', 'file_size': 3455728, 'creation_date': '2024-01-21', 'last_modified_date': '2024-01-21', 'last_accessed_date': '2024-01-21'}, excluded_embed_metadata_keys=['file_name', 'file_type', 'file_size', 'creation_date', 'last_modified_date', 'last_accessed_date'], excluded_llm_metadata_keys=['file_name', 'file_type', 'file_size', 'creation_date', 'last_modified_date', 'last_accessed_date'], relationships={}, hash='8d9831e3a063f48ac4a699da90fec58fd7bf8e54b11ce3ebc6fc6201dc6f419f', text='A D D I T I O N A L I N F O R M A T I O N\\nWEBCAST INFORMATION\\nTesla will provide a live webcast of its third quarter 2023 financial results conference call beginning at 4:30 p.m. CT on Oc tober 18, 2023 at ir.tesla.com. This webcast will also be available for replay for approximately one year \\nthereafter.\\nCERTAIN TERMS\\nWhen used inthisupdate, certain terms have thefollowing meanings .Our vehicle deliveries include only vehicles that have been transferred toend customers with allpaperwork correctly completed .Our energy product\\ndeployment volume includes both customer units installed andequipment sales; wereport installations attime ofcommissioning forstorage projects orinspection forsolar projects, and equipment sales attime ofdelivery .\\n\"Adjusted EBITDA\" isequal to(i)netincome (loss) attributable tocommon stockholders before (ii)(a) interest expense, (b)provision forincome taxes, (c)depreciation, amortization and impairment and (d)stock -based\\ncompensation expense, which isthesame measurement forthisterm pursuant totheperformance -based stock option award granted toourCEO in2018 .\"Free cash flow\" isoperating cash flow lesscapital expenditures. Average\\ncost pervehicle iscost ofautomotive sales divided bynew vehicle deliveries (excluding operating leases) .“Days sales outstanding” isequal to(i)average accounts receivable, netfortheperiod divided by(ii)total revenues and\\nmultiplied by(iii)thenumber ofdays intheperiod .“Days payable outstanding” isequal to(i)average accounts payable fortheperiod divided by(ii)total cost ofrevenues andmultiplied by(iii)thenumber ofdays intheperiod.\\n“Days ofsupply” iscalculated bydividing new carending inventory bytherelevant quarter’s deliveries andusing 75trading days .Constant currency impacts arecalculated bycomparing actuals against current results converted\\nintoUSD using average exchange rates from theprior period.\\nNON -GAAP FINANCIAL INFORMATION\\nConsolidated financial information has been presented in accordance with GAAP as well as on a non- GAAP basis to supplement our c onsolidated financial results. Our non- GAAP financial measures include non- GAAP net income \\n(loss) attributable to common stockholders, non -GAAP net income (loss) attributable to common stockholders on a diluted per shar e basis (calculated using weighted average shares for GAAP diluted net income (loss) \\nattributable to common stockholders), Adjusted EBITDA, Adjusted EBITDA margin and free cash flow. These non- GAAP financial measu res also facilitate management’s internal comparisons to Tesla’s historical performance as \\nwell as comparisons to the operating results of other companies. Management believes that it is useful to supplement its GAAP financial statements with this non- GAAP information because management uses such information \\ninternally for its operating, budgeting and financial planning purposes. Management also believes that presentation of the no n-GAAP financial measures provides useful information to our investors regarding our financial \\ncondition and results of operations, so that investors can see through the eyes of Tesla management regarding important financial metrics that Tesla uses to run the business and allowing investors to better understand Tesla’s \\nperformance. Non -GAAP information is not prepared under a comprehensive set of accounting rules and therefore, should only be re ad in conjunction with financial information reported under U.S. GAAP when understanding \\nTesla’s operating performance. A reconciliation between GAAP and non- GAAP financial information is provided above.\\nFORWARD -LOOKING STATEMENTS\\nCertain statements in this update, including statements in the “Outlook” section; statements relating to the future developme nt,ramp, production and capacity, demand and market growth, cost, pricing and profitability, \\ninvestment, deliveries, deployment, availability and other features and improvements and timing of existing and future Tesla products and technologies such as Model 3, Model Y, Model X, Model S, Cybertruck, our next \\ngeneration vehicle platform, our Dojo training computers, our Autopilot, Full Self -Driving and other vehicle software and AI ena bled products, our battery cells, our Supercharging network and our energy storage and solar \\nproducts; statements regarding operating margin, operating profits, spending and liquidity; and statements regarding expansio n, improvements and/or ramp and related timing at our factories are “forward -looking statements” \\nthat are subject to risks and uncertainties. These forward -looking statements are based on management’s current expectations, an d as a result of certain risks and uncertainties, actual results may differ materially from those \\nprojected. The following important factors, without limitation, could cause actual results to differ materially from those in the forward -looking statements: uncertainties in future macroeconomic and regulatory conditions arising \\nfrom the current global pandemic; the risk of delays in launching and manufacturing our products and features cost- effectively; our ability to grow our sales, delivery, installation, servicing and charging capabilities and \\neffectively manage this growth; consumers’ demand for electric vehicles generally and our vehicles specifically; the ability of suppliers to deliver components according to schedules, prices, quality and volumes acceptable to us, \\nand our ability to manage such components effectively; any issues with lithium -ion cells or other components manufactured at our factories; our ability to ramp our factories in accordance with our plans; our ability to procure \\nsupply of battery cells, including through our own manufacturing; risks relating to international expansion; any failures by Tesla products to perform as expected or if product recalls occur; the risk of product liability claims; \\ncompetition in the automotive and energy product markets; our ability to maintain public credibility and confidence in our lo ng-term business prospects; our ability to manage risks relating to our various product financing \\nprograms; the status of government and economic incentives for electric vehicles and energy products; our ability to attract, hire and retain key employees and qualified personnel and ramp our installation teams; our ability to \\nmaintain the security of our information and production and product systems; our compliance with various regulations and laws applicable to our operations and products, which may evolve from time to time; risks relating to \\nour indebtedness and financing strategies; and adverse foreign exchange movements. More information on potential factors that could affect our financial results is included from time to time in our Securities and Exchange \\nCommission filings and reports, including the risks identified under the section captioned “Risk Factors” in our annual repor t on Form 10 -K filed with the SEC on January 31, 2023. Tesla disclaims any obligation to update \\ninformation contained in these forward -looking statements whether as a result of new information, future events or otherwise.\\n25\\n', start_char_idx=None, end_char_idx=None, text_template='{metadata_str}\\n\\n{content}', metadata_template='{key}: {value}', metadata_seperator='\\n'),\n",
       " Document(id_='d1d0e4a8-3cbc-4471-9f4e-d99037a33acd', embedding=None, metadata={'page_label': '26', 'file_name': 'TSLA-Q3-2023-Update-3.pdf', 'file_path': 'data\\\\TSLA-Q3-2023-Update-3.pdf', 'file_type': 'application/pdf', 'file_size': 3455728, 'creation_date': '2024-01-21', 'last_modified_date': '2024-01-21', 'last_accessed_date': '2024-01-21'}, excluded_embed_metadata_keys=['file_name', 'file_type', 'file_size', 'creation_date', 'last_modified_date', 'last_accessed_date'], excluded_llm_metadata_keys=['file_name', 'file_type', 'file_size', 'creation_date', 'last_modified_date', 'last_accessed_date'], relationships={}, hash='d68f1e78a5886bbcf4a8669ce87ed503c60d87e9afae4720a0d03fa85fbc50fc', text='', start_char_idx=None, end_char_idx=None, text_template='{metadata_str}\\n\\n{content}', metadata_template='{key}: {value}', metadata_seperator='\\n')]"
      ]
     },
     "execution_count": 13,
     "metadata": {},
     "output_type": "execute_result"
    }
   ],
   "source": [
    "documents"
   ]
  },
  {
   "cell_type": "markdown",
   "id": "eb5855e6-e58b-43ed-a5e8-7b14ed9aec9f",
   "metadata": {},
   "source": [
    "### Creating Text Chunks\n",
    "* Smaller text chunks result in better embedding accuracy, subsequently improving retrieval accuracy.\n",
    "* Precise context: Narrowing down information will help in getting better information."
   ]
  },
  {
   "cell_type": "code",
   "execution_count": 28,
   "id": "a9a1ee73-8bee-404b-aaf3-fad908d4527b",
   "metadata": {},
   "outputs": [],
   "source": [
    "#  Llama index has built-in tools for chunking texts\n",
    "text_splitter = TokenTextSplitter(\n",
    "  separator=\" \",\n",
    "  chunk_size=1024,\n",
    "  chunk_overlap=20,\n",
    "  backup_separators=[\"\\n\"],\n",
    "  tokenizer=tiktoken.encoding_for_model(\"gpt-3.5-turbo\").encode\n",
    ")\n"
   ]
  },
  {
   "cell_type": "code",
   "execution_count": 29,
   "id": "364d1031-5036-4123-8de1-1527a6c470fc",
   "metadata": {},
   "outputs": [],
   "source": [
    "node_parser = SimpleNodeParser.from_defaults()"
   ]
  },
  {
   "cell_type": "markdown",
   "id": "4113fbe8-fa06-47b3-bce0-6ead0c6c0674",
   "metadata": {},
   "source": [
    "SimpleNodeParser creates nodes out of text chunks, and the text chunks are created using Llama Index’s TokenTextSplitter."
   ]
  },
  {
   "cell_type": "code",
   "execution_count": null,
   "id": "43298212-735a-4032-b3b5-577f36f1b528",
   "metadata": {},
   "outputs": [],
   "source": [
    "# Alternate Sentence Splitter\n",
    "# text_splitter = SentenceSplitter(\n",
    "#   separator=\" \",\n",
    "#   chunk_size=1024,\n",
    "#   chunk_overlap=20,\n",
    "#   paragraph_separator=\"\\n\\n\\n\",\n",
    "#   secondary_chunking_regex=\"[^,.;。]+[,.;。]?\",\n",
    "#   tokenizer=tiktoken.encoding_for_model(\"gpt-3.5-turbo\").encode\n",
    "\n",
    "# )"
   ]
  },
  {
   "cell_type": "markdown",
   "id": "9e47f8c2-bb1e-40a7-8ce8-9e618f1f1a5b",
   "metadata": {},
   "source": [
    "#### Building Knowledge Bases"
   ]
  },
  {
   "cell_type": "code",
   "execution_count": 30,
   "id": "f56b1f1a-5493-42b8-8276-e33024178710",
   "metadata": {},
   "outputs": [],
   "source": [
    "# Llama Index has a custom implementation of popular embedding models, such as OpeanAI’s Ada, Cohere, Sentence transformers, etc.\n",
    "# To customize the embedding model, we need to use ServiceContext and PromptHelper.\n",
    "llm = OpenAI(model='gpt-3.5-turbo', temperature=0, max_tokens=256)\n",
    "embed_model = OpenAIEmbedding()\n",
    "prompt_helper = PromptHelper(\n",
    "    context_window=4096, \n",
    "    num_output=256, \n",
    "    chunk_overlap_ratio=0.1, \n",
    "    chunk_size_limit=None\n",
    ")\n",
    "\n",
    "service_context = ServiceContext.from_defaults(\n",
    "    llm=llm,\n",
    "    embed_model=embed_model,\n",
    "    node_parser=node_parser,\n",
    "    prompt_helper=prompt_helper\n",
    ")"
   ]
  },
  {
   "cell_type": "markdown",
   "id": "648b9977-6acb-4f90-bc57-ab16576aae23",
   "metadata": {},
   "source": [
    "#### Vector Database"
   ]
  },
  {
   "cell_type": "markdown",
   "id": "cee1d32a-c360-4b26-a32a-76c4caa1a2f0",
   "metadata": {},
   "source": [
    "* Why can’t we use the traditional databases? Technically, we can use a database like SQLite or MySQL to store vectors and linearly compare the embeddings of the query text with all others. But the problem is, you might have guessed, the linear search with O(n) time complexity. While a GPU-augmented machine can handle a few thousand data points perfectly fine, it will fail miserably when processing hundreds of millions of embeddings in any real-world application.\n",
    "\n",
    "* So, how do we solve this? The answer is indexing embeddings using different ANN algorithms such as HNSW. The HNSW is a graph-based algorithm that can efficiently handle billions of embeddings. The average query complexity of HNSW is O(log n).\n",
    "\n",
    "* Apart from HNSW, there are a few other indexing techniques, such as Product quantization, Scalar quantization, and Inverted file indexing. However, HNSW is used as the default indexing algorithm for most of the vector databases."
   ]
  },
  {
   "cell_type": "code",
   "execution_count": 31,
   "id": "15ce371d-2846-4af3-b004-7580781bede3",
   "metadata": {},
   "outputs": [],
   "source": [
    "# We will use the Llama Index’s default vector store. \n",
    "index = VectorStoreIndex.from_documents(\n",
    "    documents, \n",
    "    service_context = service_context\n",
    "    )"
   ]
  },
  {
   "cell_type": "markdown",
   "id": "bfc9843a-08c3-4a2b-bb50-ab6389ea3a8d",
   "metadata": {},
   "source": [
    "#### Query Index"
   ]
  },
  {
   "cell_type": "markdown",
   "id": "3e564c24-dee4-41cf-b518-1da8f6ebd7b5",
   "metadata": {
    "jp-MarkdownHeadingCollapsed": true
   },
   "source": [
    "* Llama Index provides a query engine for querying and a chat engine for a chat-like conversation. The difference between the two is the chat engine preserves the history of the conversation, and the query engine does not."
   ]
  },
  {
   "cell_type": "code",
   "execution_count": 32,
   "id": "88347297-c17c-4085-89fe-471a80ea1fd4",
   "metadata": {},
   "outputs": [
    {
     "name": "stdout",
     "output_type": "stream",
     "text": [
      "I'm sorry, but I cannot answer the query as there is no information provided about HNSW in the given context.\n"
     ]
    }
   ],
   "source": [
    "query_engine = index.as_query_engine(service_context=service_context)\n",
    "response = query_engine.query(\"What is HNSW?\")\n",
    "print(response)"
   ]
  },
  {
   "cell_type": "code",
   "execution_count": 33,
   "id": "176daeb1-eda1-4c5c-88f0-0c98b49b1783",
   "metadata": {},
   "outputs": [
    {
     "name": "stdout",
     "output_type": "stream",
     "text": [
      "The total revenue of Tesla in Q3-2023 is $23.4 billion.\n"
     ]
    }
   ],
   "source": [
    "response = query_engine.query(\"What is total revenue of Tesla in Q3-2023 ?\")\n",
    "print(response)"
   ]
  },
  {
   "cell_type": "markdown",
   "id": "8a8da8fb-6901-4327-b2cc-a872eb2963e3",
   "metadata": {},
   "source": [
    "#### End"
   ]
  }
 ],
 "metadata": {
  "kernelspec": {
   "display_name": "Python 3 (ipykernel)",
   "language": "python",
   "name": "python3"
  },
  "language_info": {
   "codemirror_mode": {
    "name": "ipython",
    "version": 3
   },
   "file_extension": ".py",
   "mimetype": "text/x-python",
   "name": "python",
   "nbconvert_exporter": "python",
   "pygments_lexer": "ipython3",
   "version": "3.11.5"
  }
 },
 "nbformat": 4,
 "nbformat_minor": 5
}
